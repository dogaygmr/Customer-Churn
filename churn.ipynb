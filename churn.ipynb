{
 "cells": [
  {
   "cell_type": "code",
   "execution_count": 75,
   "id": "40bc362c",
   "metadata": {},
   "outputs": [],
   "source": [
    "import numpy as np\n",
    "import pandas as pd\n",
    "import seaborn as sns\n",
    "from datetime import datetime\n",
    "import matplotlib.pyplot as plt\n",
    "%matplotlib inline\n",
    "\n",
    "import warnings\n",
    "warnings.filterwarnings('ignore')\n",
    "\n",
    "import sklearn\n",
    "from sklearn.model_selection import train_test_split,cross_val_score\n",
    "from sklearn.preprocessing import MinMaxScaler\n",
    "from sklearn.preprocessing import StandardScaler\n",
    "from sklearn.metrics import f1_score\n",
    "from sklearn.metrics import accuracy_score\n",
    "from sklearn.metrics import confusion_matrix\n",
    "from sklearn.metrics import classification_report \n",
    "\n",
    "from sklearn.svm import SVC\n",
    "from sklearn.ensemble import RandomForestClassifier,GradientBoostingClassifier\n",
    "from sklearn.neighbors import KNeighborsClassifier\n",
    "from sklearn.tree import DecisionTreeClassifier\n",
    "from sklearn.linear_model import LogisticRegression\n",
    "from sklearn.naive_bayes import GaussianNB\n",
    "from sklearn.discriminant_analysis import LinearDiscriminantAnalysis"
   ]
  },
  {
   "cell_type": "code",
   "execution_count": 2,
   "id": "d4b43c90",
   "metadata": {},
   "outputs": [],
   "source": [
    "import xgboost as xgb\n",
    "from xgboost import XGBClassifier\n",
    "from sklearn.neural_network import MLPClassifier"
   ]
  },
  {
   "cell_type": "code",
   "execution_count": 3,
   "id": "360f6659",
   "metadata": {
    "scrolled": true
   },
   "outputs": [
    {
     "data": {
      "text/html": [
       "<div>\n",
       "<style scoped>\n",
       "    .dataframe tbody tr th:only-of-type {\n",
       "        vertical-align: middle;\n",
       "    }\n",
       "\n",
       "    .dataframe tbody tr th {\n",
       "        vertical-align: top;\n",
       "    }\n",
       "\n",
       "    .dataframe thead th {\n",
       "        text-align: right;\n",
       "    }\n",
       "</style>\n",
       "<table border=\"1\" class=\"dataframe\">\n",
       "  <thead>\n",
       "    <tr style=\"text-align: right;\">\n",
       "      <th></th>\n",
       "      <th>CustomerId</th>\n",
       "      <th>Surname</th>\n",
       "      <th>CreditScore</th>\n",
       "      <th>Geography</th>\n",
       "      <th>Gender</th>\n",
       "      <th>Age</th>\n",
       "      <th>Tenure</th>\n",
       "      <th>Balance</th>\n",
       "      <th>NumOfProducts</th>\n",
       "      <th>HasCrCard</th>\n",
       "      <th>IsActiveMember</th>\n",
       "      <th>EstimatedSalary</th>\n",
       "      <th>Complain</th>\n",
       "      <th>Satisfaction_Score</th>\n",
       "      <th>Card_Type</th>\n",
       "      <th>Point_Earned</th>\n",
       "      <th>Exited</th>\n",
       "    </tr>\n",
       "  </thead>\n",
       "  <tbody>\n",
       "    <tr>\n",
       "      <th>0</th>\n",
       "      <td>15634602</td>\n",
       "      <td>Hargrave</td>\n",
       "      <td>619</td>\n",
       "      <td>France</td>\n",
       "      <td>Female</td>\n",
       "      <td>42</td>\n",
       "      <td>2</td>\n",
       "      <td>0.00</td>\n",
       "      <td>1</td>\n",
       "      <td>1</td>\n",
       "      <td>1</td>\n",
       "      <td>101348.88</td>\n",
       "      <td>1</td>\n",
       "      <td>2</td>\n",
       "      <td>DIAMOND</td>\n",
       "      <td>464</td>\n",
       "      <td>1</td>\n",
       "    </tr>\n",
       "    <tr>\n",
       "      <th>1</th>\n",
       "      <td>15647311</td>\n",
       "      <td>Hill</td>\n",
       "      <td>608</td>\n",
       "      <td>Spain</td>\n",
       "      <td>Female</td>\n",
       "      <td>41</td>\n",
       "      <td>1</td>\n",
       "      <td>83807.86</td>\n",
       "      <td>1</td>\n",
       "      <td>0</td>\n",
       "      <td>1</td>\n",
       "      <td>112542.58</td>\n",
       "      <td>1</td>\n",
       "      <td>3</td>\n",
       "      <td>DIAMOND</td>\n",
       "      <td>456</td>\n",
       "      <td>0</td>\n",
       "    </tr>\n",
       "    <tr>\n",
       "      <th>2</th>\n",
       "      <td>15619304</td>\n",
       "      <td>Onio</td>\n",
       "      <td>502</td>\n",
       "      <td>France</td>\n",
       "      <td>Female</td>\n",
       "      <td>42</td>\n",
       "      <td>8</td>\n",
       "      <td>159660.80</td>\n",
       "      <td>3</td>\n",
       "      <td>1</td>\n",
       "      <td>0</td>\n",
       "      <td>113931.57</td>\n",
       "      <td>1</td>\n",
       "      <td>3</td>\n",
       "      <td>DIAMOND</td>\n",
       "      <td>377</td>\n",
       "      <td>1</td>\n",
       "    </tr>\n",
       "    <tr>\n",
       "      <th>3</th>\n",
       "      <td>15701354</td>\n",
       "      <td>Boni</td>\n",
       "      <td>699</td>\n",
       "      <td>France</td>\n",
       "      <td>Female</td>\n",
       "      <td>39</td>\n",
       "      <td>1</td>\n",
       "      <td>0.00</td>\n",
       "      <td>2</td>\n",
       "      <td>0</td>\n",
       "      <td>0</td>\n",
       "      <td>93826.63</td>\n",
       "      <td>0</td>\n",
       "      <td>5</td>\n",
       "      <td>GOLD</td>\n",
       "      <td>350</td>\n",
       "      <td>0</td>\n",
       "    </tr>\n",
       "    <tr>\n",
       "      <th>4</th>\n",
       "      <td>15737888</td>\n",
       "      <td>Mitchell</td>\n",
       "      <td>850</td>\n",
       "      <td>Spain</td>\n",
       "      <td>Female</td>\n",
       "      <td>43</td>\n",
       "      <td>2</td>\n",
       "      <td>125510.82</td>\n",
       "      <td>1</td>\n",
       "      <td>1</td>\n",
       "      <td>1</td>\n",
       "      <td>79084.10</td>\n",
       "      <td>0</td>\n",
       "      <td>5</td>\n",
       "      <td>GOLD</td>\n",
       "      <td>425</td>\n",
       "      <td>0</td>\n",
       "    </tr>\n",
       "    <tr>\n",
       "      <th>...</th>\n",
       "      <td>...</td>\n",
       "      <td>...</td>\n",
       "      <td>...</td>\n",
       "      <td>...</td>\n",
       "      <td>...</td>\n",
       "      <td>...</td>\n",
       "      <td>...</td>\n",
       "      <td>...</td>\n",
       "      <td>...</td>\n",
       "      <td>...</td>\n",
       "      <td>...</td>\n",
       "      <td>...</td>\n",
       "      <td>...</td>\n",
       "      <td>...</td>\n",
       "      <td>...</td>\n",
       "      <td>...</td>\n",
       "      <td>...</td>\n",
       "    </tr>\n",
       "    <tr>\n",
       "      <th>9995</th>\n",
       "      <td>15606229</td>\n",
       "      <td>Obijiaku</td>\n",
       "      <td>771</td>\n",
       "      <td>France</td>\n",
       "      <td>Male</td>\n",
       "      <td>39</td>\n",
       "      <td>5</td>\n",
       "      <td>0.00</td>\n",
       "      <td>2</td>\n",
       "      <td>1</td>\n",
       "      <td>0</td>\n",
       "      <td>96270.64</td>\n",
       "      <td>0</td>\n",
       "      <td>1</td>\n",
       "      <td>DIAMOND</td>\n",
       "      <td>300</td>\n",
       "      <td>0</td>\n",
       "    </tr>\n",
       "    <tr>\n",
       "      <th>9996</th>\n",
       "      <td>15569892</td>\n",
       "      <td>Johnstone</td>\n",
       "      <td>516</td>\n",
       "      <td>France</td>\n",
       "      <td>Male</td>\n",
       "      <td>35</td>\n",
       "      <td>10</td>\n",
       "      <td>57369.61</td>\n",
       "      <td>1</td>\n",
       "      <td>1</td>\n",
       "      <td>1</td>\n",
       "      <td>101699.77</td>\n",
       "      <td>0</td>\n",
       "      <td>5</td>\n",
       "      <td>PLATINUM</td>\n",
       "      <td>771</td>\n",
       "      <td>0</td>\n",
       "    </tr>\n",
       "    <tr>\n",
       "      <th>9997</th>\n",
       "      <td>15584532</td>\n",
       "      <td>Liu</td>\n",
       "      <td>709</td>\n",
       "      <td>France</td>\n",
       "      <td>Female</td>\n",
       "      <td>36</td>\n",
       "      <td>7</td>\n",
       "      <td>0.00</td>\n",
       "      <td>1</td>\n",
       "      <td>0</td>\n",
       "      <td>1</td>\n",
       "      <td>42085.58</td>\n",
       "      <td>1</td>\n",
       "      <td>3</td>\n",
       "      <td>SILVER</td>\n",
       "      <td>564</td>\n",
       "      <td>1</td>\n",
       "    </tr>\n",
       "    <tr>\n",
       "      <th>9998</th>\n",
       "      <td>15682355</td>\n",
       "      <td>Sabbatini</td>\n",
       "      <td>772</td>\n",
       "      <td>Germany</td>\n",
       "      <td>Male</td>\n",
       "      <td>42</td>\n",
       "      <td>3</td>\n",
       "      <td>75075.31</td>\n",
       "      <td>2</td>\n",
       "      <td>1</td>\n",
       "      <td>0</td>\n",
       "      <td>92888.52</td>\n",
       "      <td>1</td>\n",
       "      <td>2</td>\n",
       "      <td>GOLD</td>\n",
       "      <td>339</td>\n",
       "      <td>1</td>\n",
       "    </tr>\n",
       "    <tr>\n",
       "      <th>9999</th>\n",
       "      <td>15628319</td>\n",
       "      <td>Walker</td>\n",
       "      <td>792</td>\n",
       "      <td>France</td>\n",
       "      <td>Female</td>\n",
       "      <td>28</td>\n",
       "      <td>4</td>\n",
       "      <td>130142.79</td>\n",
       "      <td>1</td>\n",
       "      <td>1</td>\n",
       "      <td>0</td>\n",
       "      <td>38190.78</td>\n",
       "      <td>0</td>\n",
       "      <td>3</td>\n",
       "      <td>DIAMOND</td>\n",
       "      <td>911</td>\n",
       "      <td>0</td>\n",
       "    </tr>\n",
       "  </tbody>\n",
       "</table>\n",
       "<p>10000 rows × 17 columns</p>\n",
       "</div>"
      ],
      "text/plain": [
       "      CustomerId    Surname  CreditScore Geography  Gender  Age  Tenure  \\\n",
       "0       15634602   Hargrave          619    France  Female   42       2   \n",
       "1       15647311       Hill          608     Spain  Female   41       1   \n",
       "2       15619304       Onio          502    France  Female   42       8   \n",
       "3       15701354       Boni          699    France  Female   39       1   \n",
       "4       15737888   Mitchell          850     Spain  Female   43       2   \n",
       "...          ...        ...          ...       ...     ...  ...     ...   \n",
       "9995    15606229   Obijiaku          771    France    Male   39       5   \n",
       "9996    15569892  Johnstone          516    France    Male   35      10   \n",
       "9997    15584532        Liu          709    France  Female   36       7   \n",
       "9998    15682355  Sabbatini          772   Germany    Male   42       3   \n",
       "9999    15628319     Walker          792    France  Female   28       4   \n",
       "\n",
       "        Balance  NumOfProducts  HasCrCard  IsActiveMember  EstimatedSalary  \\\n",
       "0          0.00              1          1               1        101348.88   \n",
       "1      83807.86              1          0               1        112542.58   \n",
       "2     159660.80              3          1               0        113931.57   \n",
       "3          0.00              2          0               0         93826.63   \n",
       "4     125510.82              1          1               1         79084.10   \n",
       "...         ...            ...        ...             ...              ...   \n",
       "9995       0.00              2          1               0         96270.64   \n",
       "9996   57369.61              1          1               1        101699.77   \n",
       "9997       0.00              1          0               1         42085.58   \n",
       "9998   75075.31              2          1               0         92888.52   \n",
       "9999  130142.79              1          1               0         38190.78   \n",
       "\n",
       "      Complain  Satisfaction_Score Card_Type  Point_Earned  Exited  \n",
       "0            1                   2   DIAMOND           464       1  \n",
       "1            1                   3   DIAMOND           456       0  \n",
       "2            1                   3   DIAMOND           377       1  \n",
       "3            0                   5      GOLD           350       0  \n",
       "4            0                   5      GOLD           425       0  \n",
       "...        ...                 ...       ...           ...     ...  \n",
       "9995         0                   1   DIAMOND           300       0  \n",
       "9996         0                   5  PLATINUM           771       0  \n",
       "9997         1                   3    SILVER           564       1  \n",
       "9998         1                   2      GOLD           339       1  \n",
       "9999         0                   3   DIAMOND           911       0  \n",
       "\n",
       "[10000 rows x 17 columns]"
      ]
     },
     "execution_count": 3,
     "metadata": {},
     "output_type": "execute_result"
    }
   ],
   "source": [
    "df= pd.read_excel (r'C:\\Users\\Name\\Desktop\\4.2 ödevler\\veri madenciliği\\churn\\\\excel.xlsx')\n",
    "df"
   ]
  },
  {
   "cell_type": "code",
   "execution_count": 4,
   "id": "20f6e50c",
   "metadata": {},
   "outputs": [
    {
     "data": {
      "text/plain": [
       "(10000, 17)"
      ]
     },
     "execution_count": 4,
     "metadata": {},
     "output_type": "execute_result"
    }
   ],
   "source": [
    "df.shape"
   ]
  },
  {
   "cell_type": "code",
   "execution_count": 5,
   "id": "3c55a90f",
   "metadata": {},
   "outputs": [
    {
     "name": "stdout",
     "output_type": "stream",
     "text": [
      "<class 'pandas.core.frame.DataFrame'>\n",
      "RangeIndex: 10000 entries, 0 to 9999\n",
      "Data columns (total 17 columns):\n",
      " #   Column              Non-Null Count  Dtype  \n",
      "---  ------              --------------  -----  \n",
      " 0   CustomerId          10000 non-null  int64  \n",
      " 1   Surname             10000 non-null  object \n",
      " 2   CreditScore         10000 non-null  int64  \n",
      " 3   Geography           10000 non-null  object \n",
      " 4   Gender              10000 non-null  object \n",
      " 5   Age                 10000 non-null  int64  \n",
      " 6   Tenure              10000 non-null  int64  \n",
      " 7   Balance             10000 non-null  float64\n",
      " 8   NumOfProducts       10000 non-null  int64  \n",
      " 9   HasCrCard           10000 non-null  int64  \n",
      " 10  IsActiveMember      10000 non-null  int64  \n",
      " 11  EstimatedSalary     10000 non-null  float64\n",
      " 12  Complain            10000 non-null  int64  \n",
      " 13  Satisfaction_Score  10000 non-null  int64  \n",
      " 14  Card_Type           10000 non-null  object \n",
      " 15  Point_Earned        10000 non-null  int64  \n",
      " 16  Exited              10000 non-null  int64  \n",
      "dtypes: float64(2), int64(11), object(4)\n",
      "memory usage: 1.3+ MB\n"
     ]
    }
   ],
   "source": [
    "df.info()"
   ]
  },
  {
   "cell_type": "code",
   "execution_count": 6,
   "id": "5d0f4b90",
   "metadata": {
    "scrolled": false
   },
   "outputs": [
    {
     "name": "stdout",
     "output_type": "stream",
     "text": [
      "\n",
      "Unique values :  \n",
      " CustomerId            10000\n",
      "Surname                2932\n",
      "CreditScore             460\n",
      "Geography                 3\n",
      "Gender                    2\n",
      "Age                      70\n",
      "Tenure                   11\n",
      "Balance                6382\n",
      "NumOfProducts             4\n",
      "HasCrCard                 2\n",
      "IsActiveMember            2\n",
      "EstimatedSalary        9999\n",
      "Complain                  2\n",
      "Satisfaction_Score        5\n",
      "Card_Type                 4\n",
      "Point_Earned            785\n",
      "Exited                    2\n",
      "dtype: int64\n"
     ]
    }
   ],
   "source": [
    "print ('\\nUnique values :  \\n', df.nunique())"
   ]
  },
  {
   "cell_type": "code",
   "execution_count": 7,
   "id": "b2761f68",
   "metadata": {
    "scrolled": false
   },
   "outputs": [
    {
     "data": {
      "text/html": [
       "<div>\n",
       "<style scoped>\n",
       "    .dataframe tbody tr th:only-of-type {\n",
       "        vertical-align: middle;\n",
       "    }\n",
       "\n",
       "    .dataframe tbody tr th {\n",
       "        vertical-align: top;\n",
       "    }\n",
       "\n",
       "    .dataframe thead th {\n",
       "        text-align: right;\n",
       "    }\n",
       "</style>\n",
       "<table border=\"1\" class=\"dataframe\">\n",
       "  <thead>\n",
       "    <tr style=\"text-align: right;\">\n",
       "      <th></th>\n",
       "      <th>CreditScore</th>\n",
       "      <th>Age</th>\n",
       "      <th>Tenure</th>\n",
       "      <th>Balance</th>\n",
       "      <th>NumOfProducts</th>\n",
       "      <th>HasCrCard</th>\n",
       "      <th>IsActiveMember</th>\n",
       "      <th>EstimatedSalary</th>\n",
       "      <th>Complain</th>\n",
       "      <th>Satisfaction_Score</th>\n",
       "      <th>Point_Earned</th>\n",
       "      <th>Exited</th>\n",
       "    </tr>\n",
       "  </thead>\n",
       "  <tbody>\n",
       "    <tr>\n",
       "      <th>count</th>\n",
       "      <td>10000.000000</td>\n",
       "      <td>10000.000000</td>\n",
       "      <td>10000.000000</td>\n",
       "      <td>10000.000000</td>\n",
       "      <td>10000.000000</td>\n",
       "      <td>10000.00000</td>\n",
       "      <td>10000.000000</td>\n",
       "      <td>10000.000000</td>\n",
       "      <td>10000.000000</td>\n",
       "      <td>10000.000000</td>\n",
       "      <td>10000.000000</td>\n",
       "      <td>10000.000000</td>\n",
       "    </tr>\n",
       "    <tr>\n",
       "      <th>mean</th>\n",
       "      <td>650.528800</td>\n",
       "      <td>38.921800</td>\n",
       "      <td>5.012800</td>\n",
       "      <td>76485.889288</td>\n",
       "      <td>1.530200</td>\n",
       "      <td>0.70550</td>\n",
       "      <td>0.515100</td>\n",
       "      <td>100090.239881</td>\n",
       "      <td>0.204400</td>\n",
       "      <td>3.013800</td>\n",
       "      <td>606.515100</td>\n",
       "      <td>0.203800</td>\n",
       "    </tr>\n",
       "    <tr>\n",
       "      <th>std</th>\n",
       "      <td>96.653299</td>\n",
       "      <td>10.487806</td>\n",
       "      <td>2.892174</td>\n",
       "      <td>62397.405202</td>\n",
       "      <td>0.581654</td>\n",
       "      <td>0.45584</td>\n",
       "      <td>0.499797</td>\n",
       "      <td>57510.492818</td>\n",
       "      <td>0.403283</td>\n",
       "      <td>1.405919</td>\n",
       "      <td>225.924839</td>\n",
       "      <td>0.402842</td>\n",
       "    </tr>\n",
       "    <tr>\n",
       "      <th>min</th>\n",
       "      <td>350.000000</td>\n",
       "      <td>18.000000</td>\n",
       "      <td>0.000000</td>\n",
       "      <td>0.000000</td>\n",
       "      <td>1.000000</td>\n",
       "      <td>0.00000</td>\n",
       "      <td>0.000000</td>\n",
       "      <td>11.580000</td>\n",
       "      <td>0.000000</td>\n",
       "      <td>1.000000</td>\n",
       "      <td>119.000000</td>\n",
       "      <td>0.000000</td>\n",
       "    </tr>\n",
       "    <tr>\n",
       "      <th>25%</th>\n",
       "      <td>584.000000</td>\n",
       "      <td>32.000000</td>\n",
       "      <td>3.000000</td>\n",
       "      <td>0.000000</td>\n",
       "      <td>1.000000</td>\n",
       "      <td>0.00000</td>\n",
       "      <td>0.000000</td>\n",
       "      <td>51002.110000</td>\n",
       "      <td>0.000000</td>\n",
       "      <td>2.000000</td>\n",
       "      <td>410.000000</td>\n",
       "      <td>0.000000</td>\n",
       "    </tr>\n",
       "    <tr>\n",
       "      <th>50%</th>\n",
       "      <td>652.000000</td>\n",
       "      <td>37.000000</td>\n",
       "      <td>5.000000</td>\n",
       "      <td>97198.540000</td>\n",
       "      <td>1.000000</td>\n",
       "      <td>1.00000</td>\n",
       "      <td>1.000000</td>\n",
       "      <td>100193.915000</td>\n",
       "      <td>0.000000</td>\n",
       "      <td>3.000000</td>\n",
       "      <td>605.000000</td>\n",
       "      <td>0.000000</td>\n",
       "    </tr>\n",
       "    <tr>\n",
       "      <th>75%</th>\n",
       "      <td>718.000000</td>\n",
       "      <td>44.000000</td>\n",
       "      <td>7.000000</td>\n",
       "      <td>127644.240000</td>\n",
       "      <td>2.000000</td>\n",
       "      <td>1.00000</td>\n",
       "      <td>1.000000</td>\n",
       "      <td>149388.247500</td>\n",
       "      <td>0.000000</td>\n",
       "      <td>4.000000</td>\n",
       "      <td>801.000000</td>\n",
       "      <td>0.000000</td>\n",
       "    </tr>\n",
       "    <tr>\n",
       "      <th>max</th>\n",
       "      <td>850.000000</td>\n",
       "      <td>92.000000</td>\n",
       "      <td>10.000000</td>\n",
       "      <td>250898.090000</td>\n",
       "      <td>4.000000</td>\n",
       "      <td>1.00000</td>\n",
       "      <td>1.000000</td>\n",
       "      <td>199992.480000</td>\n",
       "      <td>1.000000</td>\n",
       "      <td>5.000000</td>\n",
       "      <td>1000.000000</td>\n",
       "      <td>1.000000</td>\n",
       "    </tr>\n",
       "  </tbody>\n",
       "</table>\n",
       "</div>"
      ],
      "text/plain": [
       "        CreditScore           Age        Tenure        Balance  NumOfProducts  \\\n",
       "count  10000.000000  10000.000000  10000.000000   10000.000000   10000.000000   \n",
       "mean     650.528800     38.921800      5.012800   76485.889288       1.530200   \n",
       "std       96.653299     10.487806      2.892174   62397.405202       0.581654   \n",
       "min      350.000000     18.000000      0.000000       0.000000       1.000000   \n",
       "25%      584.000000     32.000000      3.000000       0.000000       1.000000   \n",
       "50%      652.000000     37.000000      5.000000   97198.540000       1.000000   \n",
       "75%      718.000000     44.000000      7.000000  127644.240000       2.000000   \n",
       "max      850.000000     92.000000     10.000000  250898.090000       4.000000   \n",
       "\n",
       "         HasCrCard  IsActiveMember  EstimatedSalary      Complain  \\\n",
       "count  10000.00000    10000.000000     10000.000000  10000.000000   \n",
       "mean       0.70550        0.515100    100090.239881      0.204400   \n",
       "std        0.45584        0.499797     57510.492818      0.403283   \n",
       "min        0.00000        0.000000        11.580000      0.000000   \n",
       "25%        0.00000        0.000000     51002.110000      0.000000   \n",
       "50%        1.00000        1.000000    100193.915000      0.000000   \n",
       "75%        1.00000        1.000000    149388.247500      0.000000   \n",
       "max        1.00000        1.000000    199992.480000      1.000000   \n",
       "\n",
       "       Satisfaction_Score  Point_Earned        Exited  \n",
       "count        10000.000000  10000.000000  10000.000000  \n",
       "mean             3.013800    606.515100      0.203800  \n",
       "std              1.405919    225.924839      0.402842  \n",
       "min              1.000000    119.000000      0.000000  \n",
       "25%              2.000000    410.000000      0.000000  \n",
       "50%              3.000000    605.000000      0.000000  \n",
       "75%              4.000000    801.000000      0.000000  \n",
       "max              5.000000   1000.000000      1.000000  "
      ]
     },
     "execution_count": 7,
     "metadata": {},
     "output_type": "execute_result"
    }
   ],
   "source": [
    "df[df.columns[1:]].describe(exclude=[object])"
   ]
  },
  {
   "cell_type": "code",
   "execution_count": 8,
   "id": "63908c5b",
   "metadata": {},
   "outputs": [
    {
     "data": {
      "text/plain": [
       "count     10000.000000\n",
       "mean      76485.889288\n",
       "std       62397.405202\n",
       "min           0.000000\n",
       "25%           0.000000\n",
       "50%       97198.540000\n",
       "75%      127644.240000\n",
       "max      250898.090000\n",
       "Name: Balance, dtype: float64"
      ]
     },
     "execution_count": 8,
     "metadata": {},
     "output_type": "execute_result"
    }
   ],
   "source": [
    "df['Balance'].describe()"
   ]
  },
  {
   "cell_type": "code",
   "execution_count": 9,
   "id": "9d0e24ef",
   "metadata": {},
   "outputs": [
    {
     "data": {
      "image/png": "[encoded data removed]",
      "text/plain": [
       "<Figure size 1000x1000 with 12 Axes>"
      ]
     },
     "metadata": {},
     "output_type": "display_data"
    }
   ],
   "source": [
    "df[df.columns[1:]].hist(bins=10,figsize=(10,10))\n",
    "plt.show()"
   ]
  },
  {
   "cell_type": "code",
   "execution_count": 10,
   "id": "eb3c9a32",
   "metadata": {
    "scrolled": true
   },
   "outputs": [
    {
     "name": "stdout",
     "output_type": "stream",
     "text": [
      "0    7962\n",
      "1    2038\n",
      "Name: Exited, dtype: int64\n"
     ]
    },
    {
     "data": {
      "text/plain": [
       "Text(0.5, 1.0, 'Churn')"
      ]
     },
     "execution_count": 10,
     "metadata": {},
     "output_type": "execute_result"
    },
    {
     "data": {
      "image/png": "[encoded data removed]",
      "text/plain": [
       "<Figure size 200x200 with 1 Axes>"
      ]
     },
     "metadata": {},
     "output_type": "display_data"
    }
   ],
   "source": [
    "print(df.Exited.value_counts())\n",
    "df['Exited'].value_counts().plot(kind='bar', figsize= [2,2]).set_title('Churn')"
   ]
  },
  {
   "cell_type": "code",
   "execution_count": 11,
   "id": "9b66b92d",
   "metadata": {},
   "outputs": [
    {
     "name": "stdout",
     "output_type": "stream",
     "text": [
      "France     5014\n",
      "Germany    2509\n",
      "Spain      2477\n",
      "Name: Geography, dtype: int64\n"
     ]
    },
    {
     "data": {
      "text/plain": [
       "Text(0.5, 1.0, 'Geography')"
      ]
     },
     "execution_count": 11,
     "metadata": {},
     "output_type": "execute_result"
    },
    {
     "data": {
      "image/png": "[encoded data removed]",
      "text/plain": [
       "<Figure size 200x200 with 1 Axes>"
      ]
     },
     "metadata": {},
     "output_type": "display_data"
    }
   ],
   "source": [
    "print(df.Geography.value_counts())\n",
    "df['Geography'].value_counts().plot(kind='bar', figsize= [2,2]).set_title('Geography')"
   ]
  },
  {
   "cell_type": "code",
   "execution_count": 12,
   "id": "80c2d472",
   "metadata": {},
   "outputs": [
    {
     "name": "stdout",
     "output_type": "stream",
     "text": [
      "Male      5457\n",
      "Female    4543\n",
      "Name: Gender, dtype: int64\n"
     ]
    },
    {
     "data": {
      "text/plain": [
       "Text(0.5, 1.0, 'Gender')"
      ]
     },
     "execution_count": 12,
     "metadata": {},
     "output_type": "execute_result"
    },
    {
     "data": {
      "image/png": "[encoded data removed]",
      "text/plain": [
       "<Figure size 200x200 with 1 Axes>"
      ]
     },
     "metadata": {},
     "output_type": "display_data"
    }
   ],
   "source": [
    "print(df.Gender.value_counts())\n",
    "df['Gender'].value_counts().plot(kind='bar', figsize= [2,2]).set_title('Gender')"
   ]
  },
  {
   "cell_type": "code",
   "execution_count": 13,
   "id": "c34c2b86",
   "metadata": {
    "scrolled": true
   },
   "outputs": [
    {
     "name": "stdout",
     "output_type": "stream",
     "text": [
      "1    7055\n",
      "0    2945\n",
      "Name: HasCrCard, dtype: int64\n"
     ]
    },
    {
     "data": {
      "text/plain": [
       "Text(0.5, 1.0, 'HasCrCard')"
      ]
     },
     "execution_count": 13,
     "metadata": {},
     "output_type": "execute_result"
    },
    {
     "data": {
      "image/png": "[encoded data removed]",
      "text/plain": [
       "<Figure size 200x200 with 1 Axes>"
      ]
     },
     "metadata": {},
     "output_type": "display_data"
    }
   ],
   "source": [
    "print(df.HasCrCard.value_counts())\n",
    "df['HasCrCard'].value_counts().plot(kind='bar', figsize= [2,2]).set_title('HasCrCard')"
   ]
  },
  {
   "cell_type": "code",
   "execution_count": 14,
   "id": "7646e0e4",
   "metadata": {
    "scrolled": true
   },
   "outputs": [
    {
     "name": "stdout",
     "output_type": "stream",
     "text": [
      "DIAMOND     2507\n",
      "GOLD        2502\n",
      "SILVER      2496\n",
      "PLATINUM    2495\n",
      "Name: Card_Type, dtype: int64\n"
     ]
    },
    {
     "data": {
      "text/plain": [
       "Text(0.5, 1.0, 'Card_Type')"
      ]
     },
     "execution_count": 14,
     "metadata": {},
     "output_type": "execute_result"
    },
    {
     "data": {
      "image/png": "[encoded data removed]",
      "text/plain": [
       "<Figure size 200x200 with 1 Axes>"
      ]
     },
     "metadata": {},
     "output_type": "display_data"
    }
   ],
   "source": [
    "print(df.Card_Type.value_counts())\n",
    "df['Card_Type'].value_counts().plot(kind='bar', figsize= [2,2]).set_title('Card_Type')"
   ]
  },
  {
   "cell_type": "code",
   "execution_count": 15,
   "id": "f38e935a",
   "metadata": {},
   "outputs": [
    {
     "name": "stdout",
     "output_type": "stream",
     "text": [
      "1    5151\n",
      "0    4849\n",
      "Name: IsActiveMember, dtype: int64\n"
     ]
    },
    {
     "data": {
      "text/plain": [
       "Text(0.5, 1.0, 'IsActiveMember')"
      ]
     },
     "execution_count": 15,
     "metadata": {},
     "output_type": "execute_result"
    },
    {
     "data": {
      "image/png": "[encoded data removed]",
      "text/plain": [
       "<Figure size 200x200 with 1 Axes>"
      ]
     },
     "metadata": {},
     "output_type": "display_data"
    }
   ],
   "source": [
    "print(df.IsActiveMember.value_counts())\n",
    "df['IsActiveMember'].value_counts().plot(kind='bar', figsize= [2,2]).set_title('IsActiveMember')"
   ]
  },
  {
   "cell_type": "code",
   "execution_count": 16,
   "id": "0e145191",
   "metadata": {},
   "outputs": [
    {
     "name": "stdout",
     "output_type": "stream",
     "text": [
      "1    7055\n",
      "0    2945\n",
      "Name: HasCrCard, dtype: int64\n"
     ]
    },
    {
     "data": {
      "text/plain": [
       "Text(0.5, 1.0, 'HasCrCard')"
      ]
     },
     "execution_count": 16,
     "metadata": {},
     "output_type": "execute_result"
    },
    {
     "data": {
      "image/png": "[encoded data removed]",
      "text/plain": [
       "<Figure size 200x200 with 1 Axes>"
      ]
     },
     "metadata": {},
     "output_type": "display_data"
    }
   ],
   "source": [
    "print(df.HasCrCard.value_counts())\n",
    "df['HasCrCard'].value_counts().plot(kind='bar', figsize= [2,2]).set_title('HasCrCard')"
   ]
  },
  {
   "cell_type": "code",
   "execution_count": 17,
   "id": "116ff10a",
   "metadata": {},
   "outputs": [
    {
     "data": {
      "text/html": [
       "<div>\n",
       "<style scoped>\n",
       "    .dataframe tbody tr th:only-of-type {\n",
       "        vertical-align: middle;\n",
       "    }\n",
       "\n",
       "    .dataframe tbody tr th {\n",
       "        vertical-align: top;\n",
       "    }\n",
       "\n",
       "    .dataframe thead th {\n",
       "        text-align: right;\n",
       "    }\n",
       "</style>\n",
       "<table border=\"1\" class=\"dataframe\">\n",
       "  <thead>\n",
       "    <tr style=\"text-align: right;\">\n",
       "      <th>Exited</th>\n",
       "      <th>0</th>\n",
       "      <th>1</th>\n",
       "    </tr>\n",
       "    <tr>\n",
       "      <th>HasCrCard</th>\n",
       "      <th></th>\n",
       "      <th></th>\n",
       "    </tr>\n",
       "  </thead>\n",
       "  <tbody>\n",
       "    <tr>\n",
       "      <th>0</th>\n",
       "      <td>2332</td>\n",
       "      <td>613</td>\n",
       "    </tr>\n",
       "    <tr>\n",
       "      <th>1</th>\n",
       "      <td>5630</td>\n",
       "      <td>1425</td>\n",
       "    </tr>\n",
       "  </tbody>\n",
       "</table>\n",
       "</div>"
      ],
      "text/plain": [
       "Exited        0     1\n",
       "HasCrCard            \n",
       "0          2332   613\n",
       "1          5630  1425"
      ]
     },
     "execution_count": 17,
     "metadata": {},
     "output_type": "execute_result"
    }
   ],
   "source": [
    "pd.crosstab(df.HasCrCard,df.Exited)"
   ]
  },
  {
   "cell_type": "code",
   "execution_count": 18,
   "id": "155612a4",
   "metadata": {
    "scrolled": true
   },
   "outputs": [
    {
     "data": {
      "text/html": [
       "<div>\n",
       "<style scoped>\n",
       "    .dataframe tbody tr th:only-of-type {\n",
       "        vertical-align: middle;\n",
       "    }\n",
       "\n",
       "    .dataframe tbody tr th {\n",
       "        vertical-align: top;\n",
       "    }\n",
       "\n",
       "    .dataframe thead th {\n",
       "        text-align: right;\n",
       "    }\n",
       "</style>\n",
       "<table border=\"1\" class=\"dataframe\">\n",
       "  <thead>\n",
       "    <tr style=\"text-align: right;\">\n",
       "      <th>Exited</th>\n",
       "      <th>0</th>\n",
       "      <th>1</th>\n",
       "    </tr>\n",
       "    <tr>\n",
       "      <th>Gender</th>\n",
       "      <th></th>\n",
       "      <th></th>\n",
       "    </tr>\n",
       "  </thead>\n",
       "  <tbody>\n",
       "    <tr>\n",
       "      <th>Female</th>\n",
       "      <td>3404</td>\n",
       "      <td>1139</td>\n",
       "    </tr>\n",
       "    <tr>\n",
       "      <th>Male</th>\n",
       "      <td>4558</td>\n",
       "      <td>899</td>\n",
       "    </tr>\n",
       "  </tbody>\n",
       "</table>\n",
       "</div>"
      ],
      "text/plain": [
       "Exited     0     1\n",
       "Gender            \n",
       "Female  3404  1139\n",
       "Male    4558   899"
      ]
     },
     "execution_count": 18,
     "metadata": {},
     "output_type": "execute_result"
    }
   ],
   "source": [
    "pd.crosstab(df.Gender,df.Exited)"
   ]
  },
  {
   "cell_type": "code",
   "execution_count": 19,
   "id": "726a140f",
   "metadata": {
    "scrolled": true
   },
   "outputs": [
    {
     "data": {
      "text/html": [
       "<div>\n",
       "<style scoped>\n",
       "    .dataframe tbody tr th:only-of-type {\n",
       "        vertical-align: middle;\n",
       "    }\n",
       "\n",
       "    .dataframe tbody tr th {\n",
       "        vertical-align: top;\n",
       "    }\n",
       "\n",
       "    .dataframe thead th {\n",
       "        text-align: right;\n",
       "    }\n",
       "</style>\n",
       "<table border=\"1\" class=\"dataframe\">\n",
       "  <thead>\n",
       "    <tr style=\"text-align: right;\">\n",
       "      <th>Exited</th>\n",
       "      <th>0</th>\n",
       "      <th>1</th>\n",
       "    </tr>\n",
       "    <tr>\n",
       "      <th>Geography</th>\n",
       "      <th></th>\n",
       "      <th></th>\n",
       "    </tr>\n",
       "  </thead>\n",
       "  <tbody>\n",
       "    <tr>\n",
       "      <th>France</th>\n",
       "      <td>4203</td>\n",
       "      <td>811</td>\n",
       "    </tr>\n",
       "    <tr>\n",
       "      <th>Germany</th>\n",
       "      <td>1695</td>\n",
       "      <td>814</td>\n",
       "    </tr>\n",
       "    <tr>\n",
       "      <th>Spain</th>\n",
       "      <td>2064</td>\n",
       "      <td>413</td>\n",
       "    </tr>\n",
       "  </tbody>\n",
       "</table>\n",
       "</div>"
      ],
      "text/plain": [
       "Exited        0    1\n",
       "Geography           \n",
       "France     4203  811\n",
       "Germany    1695  814\n",
       "Spain      2064  413"
      ]
     },
     "execution_count": 19,
     "metadata": {},
     "output_type": "execute_result"
    }
   ],
   "source": [
    "pd.crosstab(df.Geography,df.Exited)"
   ]
  },
  {
   "cell_type": "code",
   "execution_count": 26,
   "id": "e9cf6d96",
   "metadata": {},
   "outputs": [
    {
     "data": {
      "text/plain": [
       "<Axes: xlabel='Exited', ylabel='Geography'>"
      ]
     },
     "execution_count": 26,
     "metadata": {},
     "output_type": "execute_result"
    },
    {
     "data": {
      "image/png": "[encoded data removed]",
      "text/plain": [
       "<Figure size 500x500 with 2 Axes>"
      ]
     },
     "metadata": {},
     "output_type": "display_data"
    }
   ],
   "source": [
    "group = df.groupby(['Geography', 'Exited'])\n",
    "Geography_Exited = group.size().unstack()\n",
    "plt.style.use(\"ggplot\")\n",
    "f,ax=plt.subplots(figsize = (5,5))\n",
    "sns.heatmap(Geography_Exited, annot = True, fmt =\"d\")"
   ]
  },
  {
   "cell_type": "code",
   "execution_count": 21,
   "id": "5591d132",
   "metadata": {},
   "outputs": [
    {
     "data": {
      "text/plain": [
       "<Axes: >"
      ]
     },
     "execution_count": 21,
     "metadata": {},
     "output_type": "execute_result"
    },
    {
     "data": {
      "image/png": "[encoded data removed]",
      "text/plain": [
       "<Figure size 1500x1500 with 2 Axes>"
      ]
     },
     "metadata": {},
     "output_type": "display_data"
    }
   ],
   "source": [
    "correlation = df.corr()\n",
    "plt.figure(figsize = (15,15))\n",
    "sns.heatmap(correlation,annot = True)"
   ]
  },
  {
   "cell_type": "code",
   "execution_count": 22,
   "id": "eb5ed1a9",
   "metadata": {},
   "outputs": [
    {
     "name": "stdout",
     "output_type": "stream",
     "text": [
      "Geography\n",
      "France     3543\n",
      "Germany    1791\n",
      "Spain      1721\n",
      "Name: HasCrCard, dtype: int64\n"
     ]
    },
    {
     "data": {
      "image/png": "[encoded data removed]",
      "text/plain": [
       "<Figure size 1500x1000 with 1 Axes>"
      ]
     },
     "metadata": {},
     "output_type": "display_data"
    }
   ],
   "source": [
    "plt.figure(figsize = (15,10)) \n",
    "sns.countplot(x=\"HasCrCard\",hue = \"Geography\", data=df, palette=\"husl\")\n",
    "print(df.groupby('Geography')[\"HasCrCard\"].sum()) "
   ]
  },
  {
   "cell_type": "code",
   "execution_count": 24,
   "id": "24daa796",
   "metadata": {},
   "outputs": [
    {
     "name": "stdout",
     "output_type": "stream",
     "text": [
      "Avarage Salaries according to Countries:\n",
      " Geography\n",
      "France      99899.180814\n",
      "Germany    101113.435102\n",
      "Spain       99440.572281\n",
      "Name: EstimatedSalary, dtype: float64\n"
     ]
    }
   ],
   "source": [
    "avarage_salaries = df.groupby(\"Geography\").mean()[\"EstimatedSalary\"]\n",
    "print(\"Avarage Salaries according to Countries:\\n\", avarage_salaries)"
   ]
  },
  {
   "cell_type": "code",
   "execution_count": 25,
   "id": "21890710",
   "metadata": {},
   "outputs": [
    {
     "data": {
      "text/plain": [
       "Text(0, 0.5, 'Number of Credit Card Users')"
      ]
     },
     "execution_count": 25,
     "metadata": {},
     "output_type": "execute_result"
    },
    {
     "data": {
      "image/png": "[encoded data removed]",
      "text/plain": [
       "<Figure size 1500x1000 with 1 Axes>"
      ]
     },
     "metadata": {},
     "output_type": "display_data"
    }
   ],
   "source": [
    "plt.figure(figsize = (15,10)) \n",
    "plt.xticks(rotation=90)\n",
    "plt.title('Credit Card Usage for Ages',color = 'blue',fontsize=15)\n",
    "sns.countplot(x=df[\"Age\"],hue ='HasCrCard',data=df);\n",
    "plt.xlabel('Ages')\n",
    "plt.ylabel('Number of Credit Card Users')"
   ]
  },
  {
   "cell_type": "code",
   "execution_count": 27,
   "id": "4de1c424",
   "metadata": {},
   "outputs": [
    {
     "data": {
      "text/plain": [
       "Text(0, 0.5, 'Number of customers (Exited or not)')"
      ]
     },
     "execution_count": 27,
     "metadata": {},
     "output_type": "execute_result"
    },
    {
     "data": {
      "image/png": "[encoded data removed]",
      "text/plain": [
       "<Figure size 1500x1000 with 1 Axes>"
      ]
     },
     "metadata": {},
     "output_type": "display_data"
    }
   ],
   "source": [
    "plt.figure(figsize = (15,10)) \n",
    "plt.xticks(rotation=45)\n",
    "sns.countplot(x=df[\"Age\"],hue = 'Exited',data=df, palette=\"husl\")\n",
    "plt.xlabel('Age')\n",
    "plt.ylabel('Number of customers (Exited or not)')"
   ]
  },
  {
   "cell_type": "code",
   "execution_count": 28,
   "id": "936ac14f",
   "metadata": {},
   "outputs": [
    {
     "data": {
      "text/plain": [
       "CustomerId            0\n",
       "Surname               0\n",
       "CreditScore           0\n",
       "Geography             0\n",
       "Gender                0\n",
       "Age                   0\n",
       "Tenure                0\n",
       "Balance               0\n",
       "NumOfProducts         0\n",
       "HasCrCard             0\n",
       "IsActiveMember        0\n",
       "EstimatedSalary       0\n",
       "Complain              0\n",
       "Satisfaction_Score    0\n",
       "Card_Type             0\n",
       "Point_Earned          0\n",
       "Exited                0\n",
       "dtype: int64"
      ]
     },
     "execution_count": 28,
     "metadata": {},
     "output_type": "execute_result"
    }
   ],
   "source": [
    "df.isnull().sum()"
   ]
  },
  {
   "cell_type": "code",
   "execution_count": 29,
   "id": "ebbb2fb8",
   "metadata": {},
   "outputs": [],
   "source": [
    "data= df.copy()"
   ]
  },
  {
   "cell_type": "code",
   "execution_count": 30,
   "id": "005f49cf",
   "metadata": {},
   "outputs": [
    {
     "data": {
      "text/html": [
       "<div>\n",
       "<style scoped>\n",
       "    .dataframe tbody tr th:only-of-type {\n",
       "        vertical-align: middle;\n",
       "    }\n",
       "\n",
       "    .dataframe tbody tr th {\n",
       "        vertical-align: top;\n",
       "    }\n",
       "\n",
       "    .dataframe thead th {\n",
       "        text-align: right;\n",
       "    }\n",
       "</style>\n",
       "<table border=\"1\" class=\"dataframe\">\n",
       "  <thead>\n",
       "    <tr style=\"text-align: right;\">\n",
       "      <th></th>\n",
       "      <th>CustomerId</th>\n",
       "      <th>Surname</th>\n",
       "      <th>CreditScore</th>\n",
       "      <th>Geography</th>\n",
       "      <th>Gender</th>\n",
       "      <th>Age</th>\n",
       "      <th>Tenure</th>\n",
       "      <th>Balance</th>\n",
       "      <th>NumOfProducts</th>\n",
       "      <th>HasCrCard</th>\n",
       "      <th>IsActiveMember</th>\n",
       "      <th>EstimatedSalary</th>\n",
       "      <th>Complain</th>\n",
       "      <th>Satisfaction_Score</th>\n",
       "      <th>Card_Type</th>\n",
       "      <th>Point_Earned</th>\n",
       "      <th>Exited</th>\n",
       "    </tr>\n",
       "  </thead>\n",
       "  <tbody>\n",
       "    <tr>\n",
       "      <th>0</th>\n",
       "      <td>15634602</td>\n",
       "      <td>Hargrave</td>\n",
       "      <td>619</td>\n",
       "      <td>France</td>\n",
       "      <td>Female</td>\n",
       "      <td>42</td>\n",
       "      <td>2</td>\n",
       "      <td>0.00</td>\n",
       "      <td>1</td>\n",
       "      <td>1</td>\n",
       "      <td>1</td>\n",
       "      <td>101348.88</td>\n",
       "      <td>1</td>\n",
       "      <td>2</td>\n",
       "      <td>DIAMOND</td>\n",
       "      <td>464</td>\n",
       "      <td>1</td>\n",
       "    </tr>\n",
       "    <tr>\n",
       "      <th>1</th>\n",
       "      <td>15647311</td>\n",
       "      <td>Hill</td>\n",
       "      <td>608</td>\n",
       "      <td>Spain</td>\n",
       "      <td>Female</td>\n",
       "      <td>41</td>\n",
       "      <td>1</td>\n",
       "      <td>83807.86</td>\n",
       "      <td>1</td>\n",
       "      <td>0</td>\n",
       "      <td>1</td>\n",
       "      <td>112542.58</td>\n",
       "      <td>1</td>\n",
       "      <td>3</td>\n",
       "      <td>DIAMOND</td>\n",
       "      <td>456</td>\n",
       "      <td>0</td>\n",
       "    </tr>\n",
       "  </tbody>\n",
       "</table>\n",
       "</div>"
      ],
      "text/plain": [
       "   CustomerId   Surname  CreditScore Geography  Gender  Age  Tenure   Balance  \\\n",
       "0    15634602  Hargrave          619    France  Female   42       2      0.00   \n",
       "1    15647311      Hill          608     Spain  Female   41       1  83807.86   \n",
       "\n",
       "   NumOfProducts  HasCrCard  IsActiveMember  EstimatedSalary  Complain  \\\n",
       "0              1          1               1        101348.88         1   \n",
       "1              1          0               1        112542.58         1   \n",
       "\n",
       "   Satisfaction_Score Card_Type  Point_Earned  Exited  \n",
       "0                   2   DIAMOND           464       1  \n",
       "1                   3   DIAMOND           456       0  "
      ]
     },
     "execution_count": 30,
     "metadata": {},
     "output_type": "execute_result"
    }
   ],
   "source": [
    "data.head(2)"
   ]
  },
  {
   "cell_type": "code",
   "execution_count": 31,
   "id": "62bdb017",
   "metadata": {},
   "outputs": [],
   "source": [
    "data.drop(['CustomerId','Surname'], axis=1 ,inplace = True)"
   ]
  },
  {
   "cell_type": "code",
   "execution_count": 33,
   "id": "9354697f",
   "metadata": {},
   "outputs": [
    {
     "name": "stdout",
     "output_type": "stream",
     "text": [
      "<class 'pandas.core.frame.DataFrame'>\n",
      "RangeIndex: 10000 entries, 0 to 9999\n",
      "Data columns (total 15 columns):\n",
      " #   Column              Non-Null Count  Dtype  \n",
      "---  ------              --------------  -----  \n",
      " 0   CreditScore         10000 non-null  int64  \n",
      " 1   Geography           10000 non-null  object \n",
      " 2   Gender              10000 non-null  object \n",
      " 3   Age                 10000 non-null  int64  \n",
      " 4   Tenure              10000 non-null  int64  \n",
      " 5   Balance             10000 non-null  float64\n",
      " 6   NumOfProducts       10000 non-null  int64  \n",
      " 7   HasCrCard           10000 non-null  int64  \n",
      " 8   IsActiveMember      10000 non-null  int64  \n",
      " 9   EstimatedSalary     10000 non-null  float64\n",
      " 10  Complain            10000 non-null  int64  \n",
      " 11  Satisfaction_Score  10000 non-null  int64  \n",
      " 12  Card_Type           10000 non-null  object \n",
      " 13  Point_Earned        10000 non-null  int64  \n",
      " 14  Exited              10000 non-null  int64  \n",
      "dtypes: float64(2), int64(10), object(3)\n",
      "memory usage: 1.1+ MB\n"
     ]
    }
   ],
   "source": [
    "data.info()"
   ]
  },
  {
   "cell_type": "code",
   "execution_count": 34,
   "id": "9a1d0493",
   "metadata": {},
   "outputs": [
    {
     "data": {
      "text/plain": [
       "array(['DIAMOND', 'GOLD', 'SILVER', 'PLATINUM'], dtype=object)"
      ]
     },
     "execution_count": 34,
     "metadata": {},
     "output_type": "execute_result"
    }
   ],
   "source": [
    "data.Card_Type.unique()"
   ]
  },
  {
   "cell_type": "code",
   "execution_count": 35,
   "id": "904ba615",
   "metadata": {},
   "outputs": [
    {
     "data": {
      "text/plain": [
       "array([2, 3, 5, 4, 1], dtype=int64)"
      ]
     },
     "execution_count": 35,
     "metadata": {},
     "output_type": "execute_result"
    }
   ],
   "source": [
    "data.Satisfaction_Score.unique()"
   ]
  },
  {
   "cell_type": "code",
   "execution_count": 37,
   "id": "3920610e",
   "metadata": {},
   "outputs": [],
   "source": [
    "data['Geography']=data['Geography'].map({'France':1,'Spain':3,'Germany':2})\n",
    "data['Gender']=data['Gender'].map({'Male':1,'Female':0})\n",
    "data['Card_Type']=data['Card_Type'].map({'DIAMOND':3, 'GOLD':1, 'SILVER':0, 'PLATINUM':2})"
   ]
  },
  {
   "cell_type": "code",
   "execution_count": 38,
   "id": "e1ea69df",
   "metadata": {},
   "outputs": [
    {
     "data": {
      "text/html": [
       "<div>\n",
       "<style scoped>\n",
       "    .dataframe tbody tr th:only-of-type {\n",
       "        vertical-align: middle;\n",
       "    }\n",
       "\n",
       "    .dataframe tbody tr th {\n",
       "        vertical-align: top;\n",
       "    }\n",
       "\n",
       "    .dataframe thead th {\n",
       "        text-align: right;\n",
       "    }\n",
       "</style>\n",
       "<table border=\"1\" class=\"dataframe\">\n",
       "  <thead>\n",
       "    <tr style=\"text-align: right;\">\n",
       "      <th></th>\n",
       "      <th>CreditScore</th>\n",
       "      <th>Geography</th>\n",
       "      <th>Gender</th>\n",
       "      <th>Age</th>\n",
       "      <th>Tenure</th>\n",
       "      <th>Balance</th>\n",
       "      <th>NumOfProducts</th>\n",
       "      <th>HasCrCard</th>\n",
       "      <th>IsActiveMember</th>\n",
       "      <th>EstimatedSalary</th>\n",
       "      <th>Complain</th>\n",
       "      <th>Satisfaction_Score</th>\n",
       "      <th>Card_Type</th>\n",
       "      <th>Point_Earned</th>\n",
       "      <th>Exited</th>\n",
       "    </tr>\n",
       "  </thead>\n",
       "  <tbody>\n",
       "    <tr>\n",
       "      <th>0</th>\n",
       "      <td>619</td>\n",
       "      <td>1</td>\n",
       "      <td>0</td>\n",
       "      <td>42</td>\n",
       "      <td>2</td>\n",
       "      <td>0.00</td>\n",
       "      <td>1</td>\n",
       "      <td>1</td>\n",
       "      <td>1</td>\n",
       "      <td>101348.88</td>\n",
       "      <td>1</td>\n",
       "      <td>2</td>\n",
       "      <td>3</td>\n",
       "      <td>464</td>\n",
       "      <td>1</td>\n",
       "    </tr>\n",
       "    <tr>\n",
       "      <th>1</th>\n",
       "      <td>608</td>\n",
       "      <td>3</td>\n",
       "      <td>0</td>\n",
       "      <td>41</td>\n",
       "      <td>1</td>\n",
       "      <td>83807.86</td>\n",
       "      <td>1</td>\n",
       "      <td>0</td>\n",
       "      <td>1</td>\n",
       "      <td>112542.58</td>\n",
       "      <td>1</td>\n",
       "      <td>3</td>\n",
       "      <td>3</td>\n",
       "      <td>456</td>\n",
       "      <td>0</td>\n",
       "    </tr>\n",
       "    <tr>\n",
       "      <th>2</th>\n",
       "      <td>502</td>\n",
       "      <td>1</td>\n",
       "      <td>0</td>\n",
       "      <td>42</td>\n",
       "      <td>8</td>\n",
       "      <td>159660.80</td>\n",
       "      <td>3</td>\n",
       "      <td>1</td>\n",
       "      <td>0</td>\n",
       "      <td>113931.57</td>\n",
       "      <td>1</td>\n",
       "      <td>3</td>\n",
       "      <td>3</td>\n",
       "      <td>377</td>\n",
       "      <td>1</td>\n",
       "    </tr>\n",
       "    <tr>\n",
       "      <th>3</th>\n",
       "      <td>699</td>\n",
       "      <td>1</td>\n",
       "      <td>0</td>\n",
       "      <td>39</td>\n",
       "      <td>1</td>\n",
       "      <td>0.00</td>\n",
       "      <td>2</td>\n",
       "      <td>0</td>\n",
       "      <td>0</td>\n",
       "      <td>93826.63</td>\n",
       "      <td>0</td>\n",
       "      <td>5</td>\n",
       "      <td>1</td>\n",
       "      <td>350</td>\n",
       "      <td>0</td>\n",
       "    </tr>\n",
       "    <tr>\n",
       "      <th>4</th>\n",
       "      <td>850</td>\n",
       "      <td>3</td>\n",
       "      <td>0</td>\n",
       "      <td>43</td>\n",
       "      <td>2</td>\n",
       "      <td>125510.82</td>\n",
       "      <td>1</td>\n",
       "      <td>1</td>\n",
       "      <td>1</td>\n",
       "      <td>79084.10</td>\n",
       "      <td>0</td>\n",
       "      <td>5</td>\n",
       "      <td>1</td>\n",
       "      <td>425</td>\n",
       "      <td>0</td>\n",
       "    </tr>\n",
       "    <tr>\n",
       "      <th>5</th>\n",
       "      <td>645</td>\n",
       "      <td>3</td>\n",
       "      <td>1</td>\n",
       "      <td>44</td>\n",
       "      <td>8</td>\n",
       "      <td>113755.78</td>\n",
       "      <td>2</td>\n",
       "      <td>1</td>\n",
       "      <td>0</td>\n",
       "      <td>149756.71</td>\n",
       "      <td>1</td>\n",
       "      <td>5</td>\n",
       "      <td>3</td>\n",
       "      <td>484</td>\n",
       "      <td>1</td>\n",
       "    </tr>\n",
       "    <tr>\n",
       "      <th>6</th>\n",
       "      <td>822</td>\n",
       "      <td>1</td>\n",
       "      <td>1</td>\n",
       "      <td>50</td>\n",
       "      <td>7</td>\n",
       "      <td>0.00</td>\n",
       "      <td>2</td>\n",
       "      <td>1</td>\n",
       "      <td>1</td>\n",
       "      <td>10062.80</td>\n",
       "      <td>0</td>\n",
       "      <td>2</td>\n",
       "      <td>0</td>\n",
       "      <td>206</td>\n",
       "      <td>0</td>\n",
       "    </tr>\n",
       "    <tr>\n",
       "      <th>7</th>\n",
       "      <td>376</td>\n",
       "      <td>2</td>\n",
       "      <td>0</td>\n",
       "      <td>29</td>\n",
       "      <td>4</td>\n",
       "      <td>115046.74</td>\n",
       "      <td>4</td>\n",
       "      <td>1</td>\n",
       "      <td>0</td>\n",
       "      <td>119346.88</td>\n",
       "      <td>1</td>\n",
       "      <td>2</td>\n",
       "      <td>3</td>\n",
       "      <td>282</td>\n",
       "      <td>1</td>\n",
       "    </tr>\n",
       "    <tr>\n",
       "      <th>8</th>\n",
       "      <td>501</td>\n",
       "      <td>1</td>\n",
       "      <td>1</td>\n",
       "      <td>44</td>\n",
       "      <td>4</td>\n",
       "      <td>142051.07</td>\n",
       "      <td>2</td>\n",
       "      <td>0</td>\n",
       "      <td>1</td>\n",
       "      <td>74940.50</td>\n",
       "      <td>0</td>\n",
       "      <td>3</td>\n",
       "      <td>1</td>\n",
       "      <td>251</td>\n",
       "      <td>0</td>\n",
       "    </tr>\n",
       "    <tr>\n",
       "      <th>9</th>\n",
       "      <td>684</td>\n",
       "      <td>1</td>\n",
       "      <td>1</td>\n",
       "      <td>27</td>\n",
       "      <td>2</td>\n",
       "      <td>134603.88</td>\n",
       "      <td>1</td>\n",
       "      <td>1</td>\n",
       "      <td>1</td>\n",
       "      <td>71725.73</td>\n",
       "      <td>0</td>\n",
       "      <td>3</td>\n",
       "      <td>1</td>\n",
       "      <td>342</td>\n",
       "      <td>0</td>\n",
       "    </tr>\n",
       "  </tbody>\n",
       "</table>\n",
       "</div>"
      ],
      "text/plain": [
       "   CreditScore  Geography  Gender  Age  Tenure    Balance  NumOfProducts  \\\n",
       "0          619          1       0   42       2       0.00              1   \n",
       "1          608          3       0   41       1   83807.86              1   \n",
       "2          502          1       0   42       8  159660.80              3   \n",
       "3          699          1       0   39       1       0.00              2   \n",
       "4          850          3       0   43       2  125510.82              1   \n",
       "5          645          3       1   44       8  113755.78              2   \n",
       "6          822          1       1   50       7       0.00              2   \n",
       "7          376          2       0   29       4  115046.74              4   \n",
       "8          501          1       1   44       4  142051.07              2   \n",
       "9          684          1       1   27       2  134603.88              1   \n",
       "\n",
       "   HasCrCard  IsActiveMember  EstimatedSalary  Complain  Satisfaction_Score  \\\n",
       "0          1               1        101348.88         1                   2   \n",
       "1          0               1        112542.58         1                   3   \n",
       "2          1               0        113931.57         1                   3   \n",
       "3          0               0         93826.63         0                   5   \n",
       "4          1               1         79084.10         0                   5   \n",
       "5          1               0        149756.71         1                   5   \n",
       "6          1               1         10062.80         0                   2   \n",
       "7          1               0        119346.88         1                   2   \n",
       "8          0               1         74940.50         0                   3   \n",
       "9          1               1         71725.73         0                   3   \n",
       "\n",
       "   Card_Type  Point_Earned  Exited  \n",
       "0          3           464       1  \n",
       "1          3           456       0  \n",
       "2          3           377       1  \n",
       "3          1           350       0  \n",
       "4          1           425       0  \n",
       "5          3           484       1  \n",
       "6          0           206       0  \n",
       "7          3           282       1  \n",
       "8          1           251       0  \n",
       "9          1           342       0  "
      ]
     },
     "execution_count": 38,
     "metadata": {},
     "output_type": "execute_result"
    }
   ],
   "source": [
    "data.head(10)"
   ]
  },
  {
   "cell_type": "code",
   "execution_count": 39,
   "id": "a58ea504",
   "metadata": {},
   "outputs": [
    {
     "data": {
      "text/html": [
       "<div>\n",
       "<style scoped>\n",
       "    .dataframe tbody tr th:only-of-type {\n",
       "        vertical-align: middle;\n",
       "    }\n",
       "\n",
       "    .dataframe tbody tr th {\n",
       "        vertical-align: top;\n",
       "    }\n",
       "\n",
       "    .dataframe thead th {\n",
       "        text-align: right;\n",
       "    }\n",
       "</style>\n",
       "<table border=\"1\" class=\"dataframe\">\n",
       "  <thead>\n",
       "    <tr style=\"text-align: right;\">\n",
       "      <th></th>\n",
       "      <th>CreditScore</th>\n",
       "      <th>Geography</th>\n",
       "      <th>Gender</th>\n",
       "      <th>Age</th>\n",
       "      <th>Tenure</th>\n",
       "      <th>Balance</th>\n",
       "      <th>NumOfProducts</th>\n",
       "      <th>HasCrCard</th>\n",
       "      <th>IsActiveMember</th>\n",
       "      <th>EstimatedSalary</th>\n",
       "      <th>Complain</th>\n",
       "      <th>Satisfaction_Score</th>\n",
       "      <th>Card_Type</th>\n",
       "      <th>Point_Earned</th>\n",
       "      <th>Exited</th>\n",
       "    </tr>\n",
       "  </thead>\n",
       "  <tbody>\n",
       "    <tr>\n",
       "      <th>CreditScore</th>\n",
       "      <td>1.000000</td>\n",
       "      <td>0.007888</td>\n",
       "      <td>-0.002857</td>\n",
       "      <td>-0.003965</td>\n",
       "      <td>0.000842</td>\n",
       "      <td>0.006268</td>\n",
       "      <td>0.012238</td>\n",
       "      <td>-0.005458</td>\n",
       "      <td>0.025651</td>\n",
       "      <td>-0.001384</td>\n",
       "      <td>-0.027048</td>\n",
       "      <td>-0.012599</td>\n",
       "      <td>-0.002511</td>\n",
       "      <td>0.000077</td>\n",
       "      <td>-0.026771</td>\n",
       "    </tr>\n",
       "    <tr>\n",
       "      <th>Geography</th>\n",
       "      <td>0.007888</td>\n",
       "      <td>1.000000</td>\n",
       "      <td>0.004719</td>\n",
       "      <td>0.022812</td>\n",
       "      <td>0.003739</td>\n",
       "      <td>0.069408</td>\n",
       "      <td>0.003972</td>\n",
       "      <td>-0.008523</td>\n",
       "      <td>0.006724</td>\n",
       "      <td>-0.001369</td>\n",
       "      <td>0.035830</td>\n",
       "      <td>-0.001718</td>\n",
       "      <td>0.011109</td>\n",
       "      <td>-0.008479</td>\n",
       "      <td>0.035712</td>\n",
       "    </tr>\n",
       "    <tr>\n",
       "      <th>Gender</th>\n",
       "      <td>-0.002857</td>\n",
       "      <td>0.004719</td>\n",
       "      <td>1.000000</td>\n",
       "      <td>-0.027544</td>\n",
       "      <td>0.014733</td>\n",
       "      <td>0.012087</td>\n",
       "      <td>-0.021859</td>\n",
       "      <td>0.005766</td>\n",
       "      <td>0.022544</td>\n",
       "      <td>-0.008112</td>\n",
       "      <td>-0.106287</td>\n",
       "      <td>0.000242</td>\n",
       "      <td>-0.009805</td>\n",
       "      <td>-0.013225</td>\n",
       "      <td>-0.106267</td>\n",
       "    </tr>\n",
       "    <tr>\n",
       "      <th>Age</th>\n",
       "      <td>-0.003965</td>\n",
       "      <td>0.022812</td>\n",
       "      <td>-0.027544</td>\n",
       "      <td>1.000000</td>\n",
       "      <td>-0.009997</td>\n",
       "      <td>0.028308</td>\n",
       "      <td>-0.030680</td>\n",
       "      <td>-0.011721</td>\n",
       "      <td>0.085472</td>\n",
       "      <td>-0.007201</td>\n",
       "      <td>0.283530</td>\n",
       "      <td>-0.000876</td>\n",
       "      <td>0.008476</td>\n",
       "      <td>0.002222</td>\n",
       "      <td>0.285296</td>\n",
       "    </tr>\n",
       "    <tr>\n",
       "      <th>Tenure</th>\n",
       "      <td>0.000842</td>\n",
       "      <td>0.003739</td>\n",
       "      <td>0.014733</td>\n",
       "      <td>-0.009997</td>\n",
       "      <td>1.000000</td>\n",
       "      <td>-0.012254</td>\n",
       "      <td>0.013444</td>\n",
       "      <td>0.022583</td>\n",
       "      <td>-0.028362</td>\n",
       "      <td>0.007784</td>\n",
       "      <td>-0.013047</td>\n",
       "      <td>0.008663</td>\n",
       "      <td>-0.010611</td>\n",
       "      <td>-0.010196</td>\n",
       "      <td>-0.013656</td>\n",
       "    </tr>\n",
       "    <tr>\n",
       "      <th>Balance</th>\n",
       "      <td>0.006268</td>\n",
       "      <td>0.069408</td>\n",
       "      <td>0.012087</td>\n",
       "      <td>0.028308</td>\n",
       "      <td>-0.012254</td>\n",
       "      <td>1.000000</td>\n",
       "      <td>-0.304180</td>\n",
       "      <td>-0.014858</td>\n",
       "      <td>-0.010084</td>\n",
       "      <td>0.012797</td>\n",
       "      <td>0.119124</td>\n",
       "      <td>-0.002588</td>\n",
       "      <td>0.023472</td>\n",
       "      <td>0.014608</td>\n",
       "      <td>0.118577</td>\n",
       "    </tr>\n",
       "    <tr>\n",
       "      <th>NumOfProducts</th>\n",
       "      <td>0.012238</td>\n",
       "      <td>0.003972</td>\n",
       "      <td>-0.021859</td>\n",
       "      <td>-0.030680</td>\n",
       "      <td>0.013444</td>\n",
       "      <td>-0.304180</td>\n",
       "      <td>1.000000</td>\n",
       "      <td>0.003183</td>\n",
       "      <td>0.009612</td>\n",
       "      <td>0.014204</td>\n",
       "      <td>-0.046357</td>\n",
       "      <td>-0.011394</td>\n",
       "      <td>-0.009054</td>\n",
       "      <td>-0.015330</td>\n",
       "      <td>-0.047611</td>\n",
       "    </tr>\n",
       "    <tr>\n",
       "      <th>HasCrCard</th>\n",
       "      <td>-0.005458</td>\n",
       "      <td>-0.008523</td>\n",
       "      <td>0.005766</td>\n",
       "      <td>-0.011721</td>\n",
       "      <td>0.022583</td>\n",
       "      <td>-0.014858</td>\n",
       "      <td>0.003183</td>\n",
       "      <td>1.000000</td>\n",
       "      <td>-0.011866</td>\n",
       "      <td>-0.009933</td>\n",
       "      <td>-0.007095</td>\n",
       "      <td>-0.000212</td>\n",
       "      <td>0.000064</td>\n",
       "      <td>-0.011041</td>\n",
       "      <td>-0.006976</td>\n",
       "    </tr>\n",
       "    <tr>\n",
       "      <th>IsActiveMember</th>\n",
       "      <td>0.025651</td>\n",
       "      <td>0.006724</td>\n",
       "      <td>0.022544</td>\n",
       "      <td>0.085472</td>\n",
       "      <td>-0.028362</td>\n",
       "      <td>-0.010084</td>\n",
       "      <td>0.009612</td>\n",
       "      <td>-0.011866</td>\n",
       "      <td>1.000000</td>\n",
       "      <td>-0.011421</td>\n",
       "      <td>-0.154741</td>\n",
       "      <td>0.010236</td>\n",
       "      <td>-0.019001</td>\n",
       "      <td>-0.004983</td>\n",
       "      <td>-0.156356</td>\n",
       "    </tr>\n",
       "    <tr>\n",
       "      <th>EstimatedSalary</th>\n",
       "      <td>-0.001384</td>\n",
       "      <td>-0.001369</td>\n",
       "      <td>-0.008112</td>\n",
       "      <td>-0.007201</td>\n",
       "      <td>0.007784</td>\n",
       "      <td>0.012797</td>\n",
       "      <td>0.014204</td>\n",
       "      <td>-0.009933</td>\n",
       "      <td>-0.011421</td>\n",
       "      <td>1.000000</td>\n",
       "      <td>0.012494</td>\n",
       "      <td>-0.013747</td>\n",
       "      <td>-0.015671</td>\n",
       "      <td>-0.001515</td>\n",
       "      <td>0.012490</td>\n",
       "    </tr>\n",
       "    <tr>\n",
       "      <th>Complain</th>\n",
       "      <td>-0.027048</td>\n",
       "      <td>0.035830</td>\n",
       "      <td>-0.106287</td>\n",
       "      <td>0.283530</td>\n",
       "      <td>-0.013047</td>\n",
       "      <td>0.119124</td>\n",
       "      <td>-0.046357</td>\n",
       "      <td>-0.007095</td>\n",
       "      <td>-0.154741</td>\n",
       "      <td>0.012494</td>\n",
       "      <td>1.000000</td>\n",
       "      <td>-0.004799</td>\n",
       "      <td>0.017372</td>\n",
       "      <td>-0.002893</td>\n",
       "      <td>0.995693</td>\n",
       "    </tr>\n",
       "    <tr>\n",
       "      <th>Satisfaction_Score</th>\n",
       "      <td>-0.012599</td>\n",
       "      <td>-0.001718</td>\n",
       "      <td>0.000242</td>\n",
       "      <td>-0.000876</td>\n",
       "      <td>0.008663</td>\n",
       "      <td>-0.002588</td>\n",
       "      <td>-0.011394</td>\n",
       "      <td>-0.000212</td>\n",
       "      <td>0.010236</td>\n",
       "      <td>-0.013747</td>\n",
       "      <td>-0.004799</td>\n",
       "      <td>1.000000</td>\n",
       "      <td>-0.005990</td>\n",
       "      <td>-0.014400</td>\n",
       "      <td>-0.005849</td>\n",
       "    </tr>\n",
       "    <tr>\n",
       "      <th>Card_Type</th>\n",
       "      <td>-0.002511</td>\n",
       "      <td>0.011109</td>\n",
       "      <td>-0.009805</td>\n",
       "      <td>0.008476</td>\n",
       "      <td>-0.010611</td>\n",
       "      <td>0.023472</td>\n",
       "      <td>-0.009054</td>\n",
       "      <td>0.000064</td>\n",
       "      <td>-0.019001</td>\n",
       "      <td>-0.015671</td>\n",
       "      <td>0.017372</td>\n",
       "      <td>-0.005990</td>\n",
       "      <td>1.000000</td>\n",
       "      <td>0.003723</td>\n",
       "      <td>0.016949</td>\n",
       "    </tr>\n",
       "    <tr>\n",
       "      <th>Point_Earned</th>\n",
       "      <td>0.000077</td>\n",
       "      <td>-0.008479</td>\n",
       "      <td>-0.013225</td>\n",
       "      <td>0.002222</td>\n",
       "      <td>-0.010196</td>\n",
       "      <td>0.014608</td>\n",
       "      <td>-0.015330</td>\n",
       "      <td>-0.011041</td>\n",
       "      <td>-0.004983</td>\n",
       "      <td>-0.001515</td>\n",
       "      <td>-0.002893</td>\n",
       "      <td>-0.014400</td>\n",
       "      <td>0.003723</td>\n",
       "      <td>1.000000</td>\n",
       "      <td>-0.004628</td>\n",
       "    </tr>\n",
       "    <tr>\n",
       "      <th>Exited</th>\n",
       "      <td>-0.026771</td>\n",
       "      <td>0.035712</td>\n",
       "      <td>-0.106267</td>\n",
       "      <td>0.285296</td>\n",
       "      <td>-0.013656</td>\n",
       "      <td>0.118577</td>\n",
       "      <td>-0.047611</td>\n",
       "      <td>-0.006976</td>\n",
       "      <td>-0.156356</td>\n",
       "      <td>0.012490</td>\n",
       "      <td>0.995693</td>\n",
       "      <td>-0.005849</td>\n",
       "      <td>0.016949</td>\n",
       "      <td>-0.004628</td>\n",
       "      <td>1.000000</td>\n",
       "    </tr>\n",
       "  </tbody>\n",
       "</table>\n",
       "</div>"
      ],
      "text/plain": [
       "                    CreditScore  Geography    Gender       Age    Tenure  \\\n",
       "CreditScore            1.000000   0.007888 -0.002857 -0.003965  0.000842   \n",
       "Geography              0.007888   1.000000  0.004719  0.022812  0.003739   \n",
       "Gender                -0.002857   0.004719  1.000000 -0.027544  0.014733   \n",
       "Age                   -0.003965   0.022812 -0.027544  1.000000 -0.009997   \n",
       "Tenure                 0.000842   0.003739  0.014733 -0.009997  1.000000   \n",
       "Balance                0.006268   0.069408  0.012087  0.028308 -0.012254   \n",
       "NumOfProducts          0.012238   0.003972 -0.021859 -0.030680  0.013444   \n",
       "HasCrCard             -0.005458  -0.008523  0.005766 -0.011721  0.022583   \n",
       "IsActiveMember         0.025651   0.006724  0.022544  0.085472 -0.028362   \n",
       "EstimatedSalary       -0.001384  -0.001369 -0.008112 -0.007201  0.007784   \n",
       "Complain              -0.027048   0.035830 -0.106287  0.283530 -0.013047   \n",
       "Satisfaction_Score    -0.012599  -0.001718  0.000242 -0.000876  0.008663   \n",
       "Card_Type             -0.002511   0.011109 -0.009805  0.008476 -0.010611   \n",
       "Point_Earned           0.000077  -0.008479 -0.013225  0.002222 -0.010196   \n",
       "Exited                -0.026771   0.035712 -0.106267  0.285296 -0.013656   \n",
       "\n",
       "                     Balance  NumOfProducts  HasCrCard  IsActiveMember  \\\n",
       "CreditScore         0.006268       0.012238  -0.005458        0.025651   \n",
       "Geography           0.069408       0.003972  -0.008523        0.006724   \n",
       "Gender              0.012087      -0.021859   0.005766        0.022544   \n",
       "Age                 0.028308      -0.030680  -0.011721        0.085472   \n",
       "Tenure             -0.012254       0.013444   0.022583       -0.028362   \n",
       "Balance             1.000000      -0.304180  -0.014858       -0.010084   \n",
       "NumOfProducts      -0.304180       1.000000   0.003183        0.009612   \n",
       "HasCrCard          -0.014858       0.003183   1.000000       -0.011866   \n",
       "IsActiveMember     -0.010084       0.009612  -0.011866        1.000000   \n",
       "EstimatedSalary     0.012797       0.014204  -0.009933       -0.011421   \n",
       "Complain            0.119124      -0.046357  -0.007095       -0.154741   \n",
       "Satisfaction_Score -0.002588      -0.011394  -0.000212        0.010236   \n",
       "Card_Type           0.023472      -0.009054   0.000064       -0.019001   \n",
       "Point_Earned        0.014608      -0.015330  -0.011041       -0.004983   \n",
       "Exited              0.118577      -0.047611  -0.006976       -0.156356   \n",
       "\n",
       "                    EstimatedSalary  Complain  Satisfaction_Score  Card_Type  \\\n",
       "CreditScore               -0.001384 -0.027048           -0.012599  -0.002511   \n",
       "Geography                 -0.001369  0.035830           -0.001718   0.011109   \n",
       "Gender                    -0.008112 -0.106287            0.000242  -0.009805   \n",
       "Age                       -0.007201  0.283530           -0.000876   0.008476   \n",
       "Tenure                     0.007784 -0.013047            0.008663  -0.010611   \n",
       "Balance                    0.012797  0.119124           -0.002588   0.023472   \n",
       "NumOfProducts              0.014204 -0.046357           -0.011394  -0.009054   \n",
       "HasCrCard                 -0.009933 -0.007095           -0.000212   0.000064   \n",
       "IsActiveMember            -0.011421 -0.154741            0.010236  -0.019001   \n",
       "EstimatedSalary            1.000000  0.012494           -0.013747  -0.015671   \n",
       "Complain                   0.012494  1.000000           -0.004799   0.017372   \n",
       "Satisfaction_Score        -0.013747 -0.004799            1.000000  -0.005990   \n",
       "Card_Type                 -0.015671  0.017372           -0.005990   1.000000   \n",
       "Point_Earned              -0.001515 -0.002893           -0.014400   0.003723   \n",
       "Exited                     0.012490  0.995693           -0.005849   0.016949   \n",
       "\n",
       "                    Point_Earned    Exited  \n",
       "CreditScore             0.000077 -0.026771  \n",
       "Geography              -0.008479  0.035712  \n",
       "Gender                 -0.013225 -0.106267  \n",
       "Age                     0.002222  0.285296  \n",
       "Tenure                 -0.010196 -0.013656  \n",
       "Balance                 0.014608  0.118577  \n",
       "NumOfProducts          -0.015330 -0.047611  \n",
       "HasCrCard              -0.011041 -0.006976  \n",
       "IsActiveMember         -0.004983 -0.156356  \n",
       "EstimatedSalary        -0.001515  0.012490  \n",
       "Complain               -0.002893  0.995693  \n",
       "Satisfaction_Score     -0.014400 -0.005849  \n",
       "Card_Type               0.003723  0.016949  \n",
       "Point_Earned            1.000000 -0.004628  \n",
       "Exited                 -0.004628  1.000000  "
      ]
     },
     "execution_count": 39,
     "metadata": {},
     "output_type": "execute_result"
    }
   ],
   "source": [
    "data.corr()"
   ]
  },
  {
   "cell_type": "code",
   "execution_count": 41,
   "id": "a0ead8ae",
   "metadata": {},
   "outputs": [
    {
     "data": {
      "text/plain": [
       "7952"
      ]
     },
     "execution_count": 41,
     "metadata": {},
     "output_type": "execute_result"
    }
   ],
   "source": [
    "data[(data['Complain']==0)&(data['Exited']==0)].shape[0]"
   ]
  },
  {
   "cell_type": "code",
   "execution_count": 42,
   "id": "c27f211c",
   "metadata": {},
   "outputs": [
    {
     "data": {
      "text/plain": [
       "2034"
      ]
     },
     "execution_count": 42,
     "metadata": {},
     "output_type": "execute_result"
    }
   ],
   "source": [
    "data[(data['Complain']==1)&(data['Exited']==1)].shape[0]"
   ]
  },
  {
   "cell_type": "code",
   "execution_count": 43,
   "id": "9b840da7",
   "metadata": {},
   "outputs": [
    {
     "data": {
      "text/plain": [
       "4"
      ]
     },
     "execution_count": 43,
     "metadata": {},
     "output_type": "execute_result"
    }
   ],
   "source": [
    "data[(data['Complain']==0)&(data['Exited']==1)].shape[0]"
   ]
  },
  {
   "cell_type": "code",
   "execution_count": 44,
   "id": "e446df46",
   "metadata": {},
   "outputs": [
    {
     "data": {
      "text/plain": [
       "10"
      ]
     },
     "execution_count": 44,
     "metadata": {},
     "output_type": "execute_result"
    }
   ],
   "source": [
    "data[(data['Complain']==1)&(data['Exited']==0)].shape[0]"
   ]
  },
  {
   "cell_type": "code",
   "execution_count": 45,
   "id": "8d5c7ef0",
   "metadata": {},
   "outputs": [
    {
     "name": "stdout",
     "output_type": "stream",
     "text": [
      "              precision    recall  f1-score   support\n",
      "\n",
      "           0       1.00      1.00      1.00      7956\n",
      "           1       1.00      1.00      1.00      2044\n",
      "\n",
      "    accuracy                           1.00     10000\n",
      "   macro avg       1.00      1.00      1.00     10000\n",
      "weighted avg       1.00      1.00      1.00     10000\n",
      "\n"
     ]
    }
   ],
   "source": [
    "print(classification_report(data['Complain'], data['Exited']))"
   ]
  },
  {
   "cell_type": "code",
   "execution_count": 46,
   "id": "77a9b564",
   "metadata": {},
   "outputs": [],
   "source": [
    "data.drop(columns=['Complain'],inplace=True)"
   ]
  },
  {
   "cell_type": "code",
   "execution_count": 47,
   "id": "2901b859",
   "metadata": {},
   "outputs": [],
   "source": [
    "X = data.iloc[:, :-1].values\n",
    "Y = data.iloc[:, -1].values"
   ]
  },
  {
   "cell_type": "code",
   "execution_count": 48,
   "id": "e2254027",
   "metadata": {},
   "outputs": [
    {
     "data": {
      "text/plain": [
       "array([1, 0, 1, ..., 1, 1, 0], dtype=int64)"
      ]
     },
     "execution_count": 48,
     "metadata": {},
     "output_type": "execute_result"
    }
   ],
   "source": [
    "Y"
   ]
  },
  {
   "cell_type": "code",
   "execution_count": 49,
   "id": "e57e116b",
   "metadata": {},
   "outputs": [
    {
     "name": "stdout",
     "output_type": "stream",
     "text": [
      "<class 'pandas.core.frame.DataFrame'>\n",
      "RangeIndex: 10000 entries, 0 to 9999\n",
      "Data columns (total 14 columns):\n",
      " #   Column              Non-Null Count  Dtype  \n",
      "---  ------              --------------  -----  \n",
      " 0   CreditScore         10000 non-null  int64  \n",
      " 1   Geography           10000 non-null  int64  \n",
      " 2   Gender              10000 non-null  int64  \n",
      " 3   Age                 10000 non-null  int64  \n",
      " 4   Tenure              10000 non-null  int64  \n",
      " 5   Balance             10000 non-null  float64\n",
      " 6   NumOfProducts       10000 non-null  int64  \n",
      " 7   HasCrCard           10000 non-null  int64  \n",
      " 8   IsActiveMember      10000 non-null  int64  \n",
      " 9   EstimatedSalary     10000 non-null  float64\n",
      " 10  Satisfaction_Score  10000 non-null  int64  \n",
      " 11  Card_Type           10000 non-null  int64  \n",
      " 12  Point_Earned        10000 non-null  int64  \n",
      " 13  Exited              10000 non-null  int64  \n",
      "dtypes: float64(2), int64(12)\n",
      "memory usage: 1.1 MB\n"
     ]
    }
   ],
   "source": [
    "data.info()"
   ]
  },
  {
   "cell_type": "code",
   "execution_count": 50,
   "id": "e82dae97",
   "metadata": {},
   "outputs": [],
   "source": [
    "X_train, X_test, Y_train, Y_test = train_test_split(X, Y, test_size = 0.3, random_state = 42)\n"
   ]
  },
  {
   "cell_type": "code",
   "execution_count": 51,
   "id": "c17186b0",
   "metadata": {},
   "outputs": [],
   "source": [
    "sc = StandardScaler()\n",
    "X_train = sc.fit_transform(X_train)\n",
    "X_test = sc.transform(X_test)"
   ]
  },
  {
   "cell_type": "code",
   "execution_count": 52,
   "id": "f8b898ed",
   "metadata": {},
   "outputs": [
    {
     "data": {
      "text/plain": [
       "(7000, 13)"
      ]
     },
     "execution_count": 52,
     "metadata": {},
     "output_type": "execute_result"
    }
   ],
   "source": [
    "X_train.shape"
   ]
  },
  {
   "cell_type": "code",
   "execution_count": 53,
   "id": "88d8445c",
   "metadata": {},
   "outputs": [
    {
     "data": {
      "text/plain": [
       "array([[-0.34459497,  1.50730692, -1.09823226, ..., -1.42878813,\n",
       "         1.33666639,  0.4521261 ],\n",
       "       [-0.09518109,  0.30201238, -1.09823226, ..., -0.00751246,\n",
       "        -0.45614157,  0.89391073],\n",
       "       [-0.94734518, -0.90328217,  0.91055421, ..., -0.00751246,\n",
       "         1.33666639, -1.72109733],\n",
       "       ...,\n",
       "       [ 0.86090545, -0.90328217, -1.09823226, ...,  1.41376322,\n",
       "        -1.35254554,  0.32271443],\n",
       "       [ 0.15423279, -0.90328217,  0.91055421, ..., -0.00751246,\n",
       "         1.33666639,  0.33163938],\n",
       "       [ 0.46600014,  0.30201238,  0.91055421, ...,  0.70312538,\n",
       "         1.33666639,  0.14867806]])"
      ]
     },
     "execution_count": 53,
     "metadata": {},
     "output_type": "execute_result"
    }
   ],
   "source": [
    "X_train"
   ]
  },
  {
   "cell_type": "code",
   "execution_count": 54,
   "id": "883b7ce3",
   "metadata": {},
   "outputs": [
    {
     "data": {
      "text/plain": [
       "array([1, 0, 0, ..., 1, 1, 0], dtype=int64)"
      ]
     },
     "execution_count": 54,
     "metadata": {},
     "output_type": "execute_result"
    }
   ],
   "source": [
    "Y_train"
   ]
  },
  {
   "cell_type": "markdown",
   "id": "ddc419c7",
   "metadata": {},
   "source": [
    "# Train"
   ]
  },
  {
   "cell_type": "code",
   "execution_count": 55,
   "id": "19896b8d",
   "metadata": {},
   "outputs": [],
   "source": [
    "r=26\n",
    "DTclassifier = DecisionTreeClassifier(criterion = 'entropy',random_state=r)\n",
    "XGBoostclassifier = XGBClassifier()\n",
    "RandomForestclassifier = RandomForestClassifier(criterion = 'entropy')\n",
    "SVMclassifier = SVC(kernel='rbf',probability=True)\n",
    "LOGISTICclassifier = LogisticRegression()\n",
    "KNNclassifier = KNeighborsClassifier()\n",
    "GNBclassifier = GaussianNB() \n",
    "NeuralNetworkClassifier= MLPClassifier(random_state=r)"
   ]
  },
  {
   "cell_type": "code",
   "execution_count": 56,
   "id": "11a31d59",
   "metadata": {},
   "outputs": [
    {
     "data": {
      "text/html": [
       "<style>#sk-container-id-1 {color: black;background-color: white;}#sk-container-id-1 pre{padding: 0;}#sk-container-id-1 div.sk-toggleable {background-color: white;}#sk-container-id-1 label.sk-toggleable__label {cursor: pointer;display: block;width: 100%;margin-bottom: 0;padding: 0.3em;box-sizing: border-box;text-align: center;}#sk-container-id-1 label.sk-toggleable__label-arrow:before {content: \"▸\";float: left;margin-right: 0.25em;color: #696969;}#sk-container-id-1 label.sk-toggleable__label-arrow:hover:before {color: black;}#sk-container-id-1 div.sk-estimator:hover label.sk-toggleable__label-arrow:before {color: black;}#sk-container-id-1 div.sk-toggleable__content {max-height: 0;max-width: 0;overflow: hidden;text-align: left;background-color: #f0f8ff;}#sk-container-id-1 div.sk-toggleable__content pre {margin: 0.2em;color: black;border-radius: 0.25em;background-color: #f0f8ff;}#sk-container-id-1 input.sk-toggleable__control:checked~div.sk-toggleable__content {max-height: 200px;max-width: 100%;overflow: auto;}#sk-container-id-1 input.sk-toggleable__control:checked~label.sk-toggleable__label-arrow:before {content: \"▾\";}#sk-container-id-1 div.sk-estimator input.sk-toggleable__control:checked~label.sk-toggleable__label {background-color: #d4ebff;}#sk-container-id-1 div.sk-label input.sk-toggleable__control:checked~label.sk-toggleable__label {background-color: #d4ebff;}#sk-container-id-1 input.sk-hidden--visually {border: 0;clip: rect(1px 1px 1px 1px);clip: rect(1px, 1px, 1px, 1px);height: 1px;margin: -1px;overflow: hidden;padding: 0;position: absolute;width: 1px;}#sk-container-id-1 div.sk-estimator {font-family: monospace;background-color: #f0f8ff;border: 1px dotted black;border-radius: 0.25em;box-sizing: border-box;margin-bottom: 0.5em;}#sk-container-id-1 div.sk-estimator:hover {background-color: #d4ebff;}#sk-container-id-1 div.sk-parallel-item::after {content: \"\";width: 100%;border-bottom: 1px solid gray;flex-grow: 1;}#sk-container-id-1 div.sk-label:hover label.sk-toggleable__label {background-color: #d4ebff;}#sk-container-id-1 div.sk-serial::before {content: \"\";position: absolute;border-left: 1px solid gray;box-sizing: border-box;top: 0;bottom: 0;left: 50%;z-index: 0;}#sk-container-id-1 div.sk-serial {display: flex;flex-direction: column;align-items: center;background-color: white;padding-right: 0.2em;padding-left: 0.2em;position: relative;}#sk-container-id-1 div.sk-item {position: relative;z-index: 1;}#sk-container-id-1 div.sk-parallel {display: flex;align-items: stretch;justify-content: center;background-color: white;position: relative;}#sk-container-id-1 div.sk-item::before, #sk-container-id-1 div.sk-parallel-item::before {content: \"\";position: absolute;border-left: 1px solid gray;box-sizing: border-box;top: 0;bottom: 0;left: 50%;z-index: -1;}#sk-container-id-1 div.sk-parallel-item {display: flex;flex-direction: column;z-index: 1;position: relative;background-color: white;}#sk-container-id-1 div.sk-parallel-item:first-child::after {align-self: flex-end;width: 50%;}#sk-container-id-1 div.sk-parallel-item:last-child::after {align-self: flex-start;width: 50%;}#sk-container-id-1 div.sk-parallel-item:only-child::after {width: 0;}#sk-container-id-1 div.sk-dashed-wrapped {border: 1px dashed gray;margin: 0 0.4em 0.5em 0.4em;box-sizing: border-box;padding-bottom: 0.4em;background-color: white;}#sk-container-id-1 div.sk-label label {font-family: monospace;font-weight: bold;display: inline-block;line-height: 1.2em;}#sk-container-id-1 div.sk-label-container {text-align: center;}#sk-container-id-1 div.sk-container {/* jupyter's `normalize.less` sets `[hidden] { display: none; }` but bootstrap.min.css set `[hidden] { display: none !important; }` so we also need the `!important` here to be able to override the default hidden behavior on the sphinx rendered scikit-learn.org. See: https://github.com/scikit-learn/scikit-learn/issues/21755 */display: inline-block !important;position: relative;}#sk-container-id-1 div.sk-text-repr-fallback {display: none;}</style><div id=\"sk-container-id-1\" class=\"sk-top-container\"><div class=\"sk-text-repr-fallback\"><pre>MLPClassifier(random_state=26)</pre><b>In a Jupyter environment, please rerun this cell to show the HTML representation or trust the notebook. <br />On GitHub, the HTML representation is unable to render, please try loading this page with nbviewer.org.</b></div><div class=\"sk-container\" hidden><div class=\"sk-item\"><div class=\"sk-estimator sk-toggleable\"><input class=\"sk-toggleable__control sk-hidden--visually\" id=\"sk-estimator-id-1\" type=\"checkbox\" checked><label for=\"sk-estimator-id-1\" class=\"sk-toggleable__label sk-toggleable__label-arrow\">MLPClassifier</label><div class=\"sk-toggleable__content\"><pre>MLPClassifier(random_state=26)</pre></div></div></div></div></div>"
      ],
      "text/plain": [
       "MLPClassifier(random_state=26)"
      ]
     },
     "execution_count": 56,
     "metadata": {},
     "output_type": "execute_result"
    }
   ],
   "source": [
    "DTclassifier.fit(X_train, Y_train)\n",
    "XGBoostclassifier.fit(X_train, Y_train)\n",
    "RandomForestclassifier.fit(X_train, Y_train)\n",
    "SVMclassifier.fit(X_train, Y_train)\n",
    "LOGISTICclassifier.fit(X_train, Y_train)\n",
    "KNNclassifier.fit(X_train, Y_train)\n",
    "GNBclassifier.fit(X_train, Y_train)\n",
    "NeuralNetworkClassifier.fit(X_train, Y_train)"
   ]
  },
  {
   "cell_type": "code",
   "execution_count": 57,
   "id": "97dd24c1",
   "metadata": {},
   "outputs": [],
   "source": [
    "DTpred = DTclassifier.predict(X_test)\n",
    "XGBpred = XGBoostclassifier.predict(X_test)\n",
    "RFpred = RandomForestclassifier.predict(X_test)\n",
    "SVMpred = SVMclassifier.predict(X_test)\n",
    "LOGISTICpred = LOGISTICclassifier.predict(X_test)\n",
    "KNNpred = KNNclassifier.predict(X_test)\n",
    "GNBpred = GNBclassifier.predict(X_test)\n",
    "NNpred= NeuralNetworkClassifier.predict(X_test)"
   ]
  },
  {
   "cell_type": "code",
   "execution_count": 58,
   "id": "e4ddc3f2",
   "metadata": {},
   "outputs": [
    {
     "name": "stdout",
     "output_type": "stream",
     "text": [
      "Accuracy of the Decision Tree Classifier:  0.797\n",
      "Accuracy of the XGBoost Classifier:  0.86\n",
      "Accuracy of the Random Forest Classifier:  0.867\n",
      "Accuracy of the SVM classifier:  0.8616666666666667\n",
      "Accuracy of the Logistic Regression Classifier:  0.8163333333333334\n",
      "Accuracy of the KNN Classifier:  0.8323333333333334\n",
      "Accuracy of the GNB Classifier:  0.8356666666666667\n",
      "Accuracy of the Neural Network Classifier:  0.8586666666666667\n"
     ]
    }
   ],
   "source": [
    "DTaccuracy = accuracy_score(Y_test, DTpred)\n",
    "print(\"Accuracy of the Decision Tree Classifier: \",DTaccuracy)\n",
    "\n",
    "XGBaccuracy = accuracy_score(Y_test, XGBpred)\n",
    "print(\"Accuracy of the XGBoost Classifier: \",XGBaccuracy)\n",
    "\n",
    "RFaccuracy = accuracy_score(Y_test, RFpred)\n",
    "print(\"Accuracy of the Random Forest Classifier: \",RFaccuracy)\n",
    "\n",
    "SVMaccuracy = accuracy_score(Y_test, SVMpred)\n",
    "print(\"Accuracy of the SVM classifier: \",SVMaccuracy)\n",
    "\n",
    "LOGISTICaccuracy = accuracy_score(Y_test, LOGISTICpred)\n",
    "print(\"Accuracy of the Logistic Regression Classifier: \",LOGISTICaccuracy)\n",
    "\n",
    "KNNaccuracy = accuracy_score(Y_test, KNNpred)\n",
    "print(\"Accuracy of the KNN Classifier: \",KNNaccuracy)\n",
    "\n",
    "GNBaccuracy = accuracy_score(Y_test, GNBpred)\n",
    "print(\"Accuracy of the GNB Classifier: \", GNBaccuracy) \n",
    "\n",
    "NNaccuracy = accuracy_score(Y_test, NNpred)\n",
    "print(\"Accuracy of the Neural Network Classifier: \", NNaccuracy)"
   ]
  },
  {
   "cell_type": "code",
   "execution_count": 59,
   "id": "133e2a3b",
   "metadata": {},
   "outputs": [
    {
     "data": {
      "text/plain": [
       "array([[2095,  321],\n",
       "       [ 288,  296]], dtype=int64)"
      ]
     },
     "execution_count": 59,
     "metadata": {},
     "output_type": "execute_result"
    }
   ],
   "source": [
    "CMDecisionTree = confusion_matrix(Y_test,DTpred)\n",
    "CMDecisionTree"
   ]
  },
  {
   "cell_type": "code",
   "execution_count": 79,
   "id": "97ceb11e",
   "metadata": {
    "scrolled": true
   },
   "outputs": [
    {
     "name": "stdout",
     "output_type": "stream",
     "text": [
      "Recall: 0.507\n"
     ]
    }
   ],
   "source": [
    "print('Recall: %.3f' % recall_score(Y_test, DTpred))"
   ]
  },
  {
   "cell_type": "code",
   "execution_count": 77,
   "id": "0d07df19",
   "metadata": {},
   "outputs": [],
   "source": [
    "from sklearn.metrics import confusion_matrix\n",
    "from sklearn.metrics import precision_score, recall_score, f1_score, accuracy_score"
   ]
  },
  {
   "cell_type": "code",
   "execution_count": 60,
   "id": "6ceb7aaf",
   "metadata": {
    "scrolled": true
   },
   "outputs": [
    {
     "name": "stdout",
     "output_type": "stream",
     "text": [
      "              precision    recall  f1-score   support\n",
      "\n",
      "           0       0.88      0.87      0.87      2416\n",
      "           1       0.48      0.51      0.49       584\n",
      "\n",
      "    accuracy                           0.80      3000\n",
      "   macro avg       0.68      0.69      0.68      3000\n",
      "weighted avg       0.80      0.80      0.80      3000\n",
      "\n"
     ]
    }
   ],
   "source": [
    "print(classification_report(Y_test, DTpred))"
   ]
  },
  {
   "cell_type": "code",
   "execution_count": 73,
   "id": "ae99ec70",
   "metadata": {},
   "outputs": [
    {
     "data": {
      "text/plain": [
       "array([[2302,  114],\n",
       "       [ 306,  278]], dtype=int64)"
      ]
     },
     "execution_count": 73,
     "metadata": {},
     "output_type": "execute_result"
    }
   ],
   "source": [
    "cmXGB = confusion_matrix(Y_test,XGBpred)\n",
    "cmXGB "
   ]
  },
  {
   "cell_type": "code",
   "execution_count": 74,
   "id": "2fb7c0bb",
   "metadata": {
    "scrolled": true
   },
   "outputs": [
    {
     "name": "stdout",
     "output_type": "stream",
     "text": [
      "              precision    recall  f1-score   support\n",
      "\n",
      "           0       0.88      0.95      0.92      2416\n",
      "           1       0.71      0.48      0.57       584\n",
      "\n",
      "    accuracy                           0.86      3000\n",
      "   macro avg       0.80      0.71      0.74      3000\n",
      "weighted avg       0.85      0.86      0.85      3000\n",
      "\n"
     ]
    }
   ],
   "source": [
    "print(classification_report(Y_test, XGBpred))"
   ]
  },
  {
   "cell_type": "code",
   "execution_count": 71,
   "id": "1dc43b82",
   "metadata": {},
   "outputs": [
    {
     "data": {
      "text/plain": [
       "array([[2346,   70],\n",
       "       [ 329,  255]], dtype=int64)"
      ]
     },
     "execution_count": 71,
     "metadata": {},
     "output_type": "execute_result"
    }
   ],
   "source": [
    "cmRF = confusion_matrix(Y_test,RFpred)\n",
    "cmRF"
   ]
  },
  {
   "cell_type": "code",
   "execution_count": 72,
   "id": "1159fd06",
   "metadata": {
    "scrolled": true
   },
   "outputs": [
    {
     "name": "stdout",
     "output_type": "stream",
     "text": [
      "              precision    recall  f1-score   support\n",
      "\n",
      "           0       0.88      0.97      0.92      2416\n",
      "           1       0.78      0.44      0.56       584\n",
      "\n",
      "    accuracy                           0.87      3000\n",
      "   macro avg       0.83      0.70      0.74      3000\n",
      "weighted avg       0.86      0.87      0.85      3000\n",
      "\n"
     ]
    }
   ],
   "source": [
    "print(classification_report(Y_test, RFpred))"
   ]
  },
  {
   "cell_type": "code",
   "execution_count": 67,
   "id": "06082b63",
   "metadata": {},
   "outputs": [
    {
     "data": {
      "text/plain": [
       "array([[2371,   45],\n",
       "       [ 370,  214]], dtype=int64)"
      ]
     },
     "execution_count": 67,
     "metadata": {},
     "output_type": "execute_result"
    }
   ],
   "source": [
    "CMsvm = confusion_matrix(Y_test,SVMpred)\n",
    "CMsvm"
   ]
  },
  {
   "cell_type": "code",
   "execution_count": 68,
   "id": "a04377ad",
   "metadata": {
    "scrolled": true
   },
   "outputs": [
    {
     "name": "stdout",
     "output_type": "stream",
     "text": [
      "              precision    recall  f1-score   support\n",
      "\n",
      "           0       0.87      0.98      0.92      2416\n",
      "           1       0.83      0.37      0.51       584\n",
      "\n",
      "    accuracy                           0.86      3000\n",
      "   macro avg       0.85      0.67      0.71      3000\n",
      "weighted avg       0.86      0.86      0.84      3000\n",
      "\n"
     ]
    }
   ],
   "source": [
    "print(classification_report(Y_test, SVMpred))"
   ]
  },
  {
   "cell_type": "code",
   "execution_count": 61,
   "id": "9b54e45b",
   "metadata": {},
   "outputs": [
    {
     "data": {
      "text/plain": [
       "array([[2346,   70],\n",
       "       [ 481,  103]], dtype=int64)"
      ]
     },
     "execution_count": 61,
     "metadata": {},
     "output_type": "execute_result"
    }
   ],
   "source": [
    "CMLOGISTIC = confusion_matrix(Y_test,LOGISTICpred)\n",
    "CMLOGISTIC"
   ]
  },
  {
   "cell_type": "code",
   "execution_count": 62,
   "id": "12121503",
   "metadata": {},
   "outputs": [
    {
     "name": "stdout",
     "output_type": "stream",
     "text": [
      "              precision    recall  f1-score   support\n",
      "\n",
      "           0       0.83      0.97      0.89      2416\n",
      "           1       0.60      0.18      0.27       584\n",
      "\n",
      "    accuracy                           0.82      3000\n",
      "   macro avg       0.71      0.57      0.58      3000\n",
      "weighted avg       0.78      0.82      0.77      3000\n",
      "\n"
     ]
    }
   ],
   "source": [
    "print(classification_report(Y_test, LOGISTICpred))"
   ]
  },
  {
   "cell_type": "code",
   "execution_count": 65,
   "id": "188ea916",
   "metadata": {
    "scrolled": true
   },
   "outputs": [
    {
     "data": {
      "text/plain": [
       "array([[2295,  121],\n",
       "       [ 382,  202]], dtype=int64)"
      ]
     },
     "execution_count": 65,
     "metadata": {},
     "output_type": "execute_result"
    }
   ],
   "source": [
    "CMknn = confusion_matrix(Y_test,KNNpred)\n",
    "CMknn"
   ]
  },
  {
   "cell_type": "code",
   "execution_count": 66,
   "id": "79aa2c8e",
   "metadata": {
    "scrolled": true
   },
   "outputs": [
    {
     "name": "stdout",
     "output_type": "stream",
     "text": [
      "              precision    recall  f1-score   support\n",
      "\n",
      "           0       0.86      0.95      0.90      2416\n",
      "           1       0.63      0.35      0.45       584\n",
      "\n",
      "    accuracy                           0.83      3000\n",
      "   macro avg       0.74      0.65      0.67      3000\n",
      "weighted avg       0.81      0.83      0.81      3000\n",
      "\n"
     ]
    }
   ],
   "source": [
    "print(classification_report(Y_test, KNNpred))"
   ]
  },
  {
   "cell_type": "code",
   "execution_count": 63,
   "id": "f298036c",
   "metadata": {},
   "outputs": [
    {
     "data": {
      "text/plain": [
       "array([[2361,   55],\n",
       "       [ 438,  146]], dtype=int64)"
      ]
     },
     "execution_count": 63,
     "metadata": {},
     "output_type": "execute_result"
    }
   ],
   "source": [
    "CMnb = confusion_matrix(Y_test,GNBpred)\n",
    "CMnb"
   ]
  },
  {
   "cell_type": "code",
   "execution_count": 64,
   "id": "af1cf00f",
   "metadata": {},
   "outputs": [
    {
     "name": "stdout",
     "output_type": "stream",
     "text": [
      "              precision    recall  f1-score   support\n",
      "\n",
      "           0       0.84      0.98      0.91      2416\n",
      "           1       0.73      0.25      0.37       584\n",
      "\n",
      "    accuracy                           0.84      3000\n",
      "   macro avg       0.78      0.61      0.64      3000\n",
      "weighted avg       0.82      0.84      0.80      3000\n",
      "\n"
     ]
    }
   ],
   "source": [
    "\n",
    "print(classification_report(Y_test, GNBpred))"
   ]
  },
  {
   "cell_type": "code",
   "execution_count": 69,
   "id": "5fc57e4b",
   "metadata": {},
   "outputs": [
    {
     "data": {
      "text/plain": [
       "array([[2297,  119],\n",
       "       [ 305,  279]], dtype=int64)"
      ]
     },
     "execution_count": 69,
     "metadata": {},
     "output_type": "execute_result"
    }
   ],
   "source": [
    "cmNN = confusion_matrix(Y_test,NNpred)\n",
    "cmNN"
   ]
  },
  {
   "cell_type": "code",
   "execution_count": 70,
   "id": "b8b6167d",
   "metadata": {},
   "outputs": [
    {
     "name": "stdout",
     "output_type": "stream",
     "text": [
      "              precision    recall  f1-score   support\n",
      "\n",
      "           0       0.88      0.95      0.92      2416\n",
      "           1       0.70      0.48      0.57       584\n",
      "\n",
      "    accuracy                           0.86      3000\n",
      "   macro avg       0.79      0.71      0.74      3000\n",
      "weighted avg       0.85      0.86      0.85      3000\n",
      "\n"
     ]
    }
   ],
   "source": [
    "print(classification_report(Y_test, NNpred))"
   ]
  },
  {
   "cell_type": "code",
   "execution_count": null,
   "id": "6dcdadea",
   "metadata": {},
   "outputs": [],
   "source": []
  },
  {
   "cell_type": "code",
   "execution_count": null,
   "id": "22eb6b1f",
   "metadata": {},
   "outputs": [],
   "source": []
  }
 ],
 "metadata": {
  "kernelspec": {
   "display_name": "Python 3 (ipykernel)",
   "language": "python",
   "name": "python3"
  },
  "language_info": {
   "codemirror_mode": {
    "name": "ipython",
    "version": 3
   },
   "file_extension": ".py",
   "mimetype": "text/x-python",
   "name": "python",
   "nbconvert_exporter": "python",
   "pygments_lexer": "ipython3",
   "version": "3.11.2"
  }
 },
 "nbformat": 4,
 "nbformat_minor": 5
}
